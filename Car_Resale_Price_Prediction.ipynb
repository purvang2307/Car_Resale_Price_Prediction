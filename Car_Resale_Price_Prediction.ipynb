{
 "cells": [
  {
   "cell_type": "markdown",
   "id": "c0581d3b",
   "metadata": {},
   "source": [
    "### Import Libraries"
   ]
  },
  {
   "cell_type": "code",
   "execution_count": 1,
   "id": "d1c00b49",
   "metadata": {},
   "outputs": [],
   "source": [
    "import pandas as pd\n",
    "import numpy as np\n",
    "import matplotlib.pyplot as plt\n",
    "import seaborn as sns\n",
    "import missingno as msno\n",
    "import warnings \n",
    "warnings.filterwarnings('ignore')"
   ]
  },
  {
   "cell_type": "code",
   "execution_count": 2,
   "id": "6d276359",
   "metadata": {},
   "outputs": [],
   "source": [
    "pd.set_option('display.max_columns',None)\n",
    "pd.set_option('display.max_rows',500)"
   ]
  },
  {
   "cell_type": "code",
   "execution_count": 3,
   "id": "745ed55e",
   "metadata": {},
   "outputs": [],
   "source": [
    "df=pd.read_csv(r\"E:\\Purvang\\Data Set\\used_cars.csv\")"
   ]
  },
  {
   "cell_type": "code",
   "execution_count": 4,
   "id": "5ede1364",
   "metadata": {},
   "outputs": [
    {
     "data": {
      "text/html": [
       "<div>\n",
       "<style scoped>\n",
       "    .dataframe tbody tr th:only-of-type {\n",
       "        vertical-align: middle;\n",
       "    }\n",
       "\n",
       "    .dataframe tbody tr th {\n",
       "        vertical-align: top;\n",
       "    }\n",
       "\n",
       "    .dataframe thead th {\n",
       "        text-align: right;\n",
       "    }\n",
       "</style>\n",
       "<table border=\"1\" class=\"dataframe\">\n",
       "  <thead>\n",
       "    <tr style=\"text-align: right;\">\n",
       "      <th></th>\n",
       "      <th>brand</th>\n",
       "      <th>model</th>\n",
       "      <th>model_year</th>\n",
       "      <th>milage</th>\n",
       "      <th>fuel_type</th>\n",
       "      <th>engine</th>\n",
       "      <th>transmission</th>\n",
       "      <th>ext_col</th>\n",
       "      <th>int_col</th>\n",
       "      <th>accident</th>\n",
       "      <th>clean_title</th>\n",
       "      <th>price</th>\n",
       "    </tr>\n",
       "  </thead>\n",
       "  <tbody>\n",
       "    <tr>\n",
       "      <th>0</th>\n",
       "      <td>Ford</td>\n",
       "      <td>Utility Police Interceptor Base</td>\n",
       "      <td>2013</td>\n",
       "      <td>51,000 mi.</td>\n",
       "      <td>E85 Flex Fuel</td>\n",
       "      <td>300.0HP 3.7L V6 Cylinder Engine Flex Fuel Capa...</td>\n",
       "      <td>6-Speed A/T</td>\n",
       "      <td>Black</td>\n",
       "      <td>Black</td>\n",
       "      <td>At least 1 accident or damage reported</td>\n",
       "      <td>Yes</td>\n",
       "      <td>$10,300</td>\n",
       "    </tr>\n",
       "    <tr>\n",
       "      <th>1</th>\n",
       "      <td>Hyundai</td>\n",
       "      <td>Palisade SEL</td>\n",
       "      <td>2021</td>\n",
       "      <td>34,742 mi.</td>\n",
       "      <td>Gasoline</td>\n",
       "      <td>3.8L V6 24V GDI DOHC</td>\n",
       "      <td>8-Speed Automatic</td>\n",
       "      <td>Moonlight Cloud</td>\n",
       "      <td>Gray</td>\n",
       "      <td>At least 1 accident or damage reported</td>\n",
       "      <td>Yes</td>\n",
       "      <td>$38,005</td>\n",
       "    </tr>\n",
       "    <tr>\n",
       "      <th>2</th>\n",
       "      <td>Lexus</td>\n",
       "      <td>RX 350 RX 350</td>\n",
       "      <td>2022</td>\n",
       "      <td>22,372 mi.</td>\n",
       "      <td>Gasoline</td>\n",
       "      <td>3.5 Liter DOHC</td>\n",
       "      <td>Automatic</td>\n",
       "      <td>Blue</td>\n",
       "      <td>Black</td>\n",
       "      <td>None reported</td>\n",
       "      <td>NaN</td>\n",
       "      <td>$54,598</td>\n",
       "    </tr>\n",
       "    <tr>\n",
       "      <th>3</th>\n",
       "      <td>INFINITI</td>\n",
       "      <td>Q50 Hybrid Sport</td>\n",
       "      <td>2015</td>\n",
       "      <td>88,900 mi.</td>\n",
       "      <td>Hybrid</td>\n",
       "      <td>354.0HP 3.5L V6 Cylinder Engine Gas/Electric H...</td>\n",
       "      <td>7-Speed A/T</td>\n",
       "      <td>Black</td>\n",
       "      <td>Black</td>\n",
       "      <td>None reported</td>\n",
       "      <td>Yes</td>\n",
       "      <td>$15,500</td>\n",
       "    </tr>\n",
       "    <tr>\n",
       "      <th>4</th>\n",
       "      <td>Audi</td>\n",
       "      <td>Q3 45 S line Premium Plus</td>\n",
       "      <td>2021</td>\n",
       "      <td>9,835 mi.</td>\n",
       "      <td>Gasoline</td>\n",
       "      <td>2.0L I4 16V GDI DOHC Turbo</td>\n",
       "      <td>8-Speed Automatic</td>\n",
       "      <td>Glacier White Metallic</td>\n",
       "      <td>Black</td>\n",
       "      <td>None reported</td>\n",
       "      <td>NaN</td>\n",
       "      <td>$34,999</td>\n",
       "    </tr>\n",
       "  </tbody>\n",
       "</table>\n",
       "</div>"
      ],
      "text/plain": [
       "      brand                            model  model_year      milage  \\\n",
       "0      Ford  Utility Police Interceptor Base        2013  51,000 mi.   \n",
       "1   Hyundai                     Palisade SEL        2021  34,742 mi.   \n",
       "2     Lexus                    RX 350 RX 350        2022  22,372 mi.   \n",
       "3  INFINITI                 Q50 Hybrid Sport        2015  88,900 mi.   \n",
       "4      Audi        Q3 45 S line Premium Plus        2021   9,835 mi.   \n",
       "\n",
       "       fuel_type                                             engine  \\\n",
       "0  E85 Flex Fuel  300.0HP 3.7L V6 Cylinder Engine Flex Fuel Capa...   \n",
       "1       Gasoline                               3.8L V6 24V GDI DOHC   \n",
       "2       Gasoline                                     3.5 Liter DOHC   \n",
       "3         Hybrid  354.0HP 3.5L V6 Cylinder Engine Gas/Electric H...   \n",
       "4       Gasoline                         2.0L I4 16V GDI DOHC Turbo   \n",
       "\n",
       "        transmission                 ext_col int_col  \\\n",
       "0        6-Speed A/T                   Black   Black   \n",
       "1  8-Speed Automatic         Moonlight Cloud    Gray   \n",
       "2          Automatic                    Blue   Black   \n",
       "3        7-Speed A/T                   Black   Black   \n",
       "4  8-Speed Automatic  Glacier White Metallic   Black   \n",
       "\n",
       "                                 accident clean_title    price  \n",
       "0  At least 1 accident or damage reported         Yes  $10,300  \n",
       "1  At least 1 accident or damage reported         Yes  $38,005  \n",
       "2                           None reported         NaN  $54,598  \n",
       "3                           None reported         Yes  $15,500  \n",
       "4                           None reported         NaN  $34,999  "
      ]
     },
     "execution_count": 4,
     "metadata": {},
     "output_type": "execute_result"
    }
   ],
   "source": [
    "df.head()"
   ]
  },
  {
   "cell_type": "code",
   "execution_count": 5,
   "id": "9cc4aa1a",
   "metadata": {},
   "outputs": [
    {
     "data": {
      "text/html": [
       "<div>\n",
       "<style scoped>\n",
       "    .dataframe tbody tr th:only-of-type {\n",
       "        vertical-align: middle;\n",
       "    }\n",
       "\n",
       "    .dataframe tbody tr th {\n",
       "        vertical-align: top;\n",
       "    }\n",
       "\n",
       "    .dataframe thead th {\n",
       "        text-align: right;\n",
       "    }\n",
       "</style>\n",
       "<table border=\"1\" class=\"dataframe\">\n",
       "  <thead>\n",
       "    <tr style=\"text-align: right;\">\n",
       "      <th></th>\n",
       "      <th>brand</th>\n",
       "      <th>model</th>\n",
       "      <th>model_year</th>\n",
       "      <th>milage</th>\n",
       "      <th>fuel_type</th>\n",
       "      <th>engine</th>\n",
       "      <th>transmission</th>\n",
       "      <th>ext_col</th>\n",
       "      <th>int_col</th>\n",
       "      <th>accident</th>\n",
       "      <th>clean_title</th>\n",
       "      <th>price</th>\n",
       "    </tr>\n",
       "  </thead>\n",
       "  <tbody>\n",
       "    <tr>\n",
       "      <th>4004</th>\n",
       "      <td>Bentley</td>\n",
       "      <td>Continental GT Speed</td>\n",
       "      <td>2023</td>\n",
       "      <td>714 mi.</td>\n",
       "      <td>Gasoline</td>\n",
       "      <td>6.0L W12 48V PDI DOHC Twin Turbo</td>\n",
       "      <td>8-Speed Automatic with Auto-Shift</td>\n",
       "      <td>C / C</td>\n",
       "      <td>Hotspur</td>\n",
       "      <td>None reported</td>\n",
       "      <td>Yes</td>\n",
       "      <td>$349,950</td>\n",
       "    </tr>\n",
       "    <tr>\n",
       "      <th>4005</th>\n",
       "      <td>Audi</td>\n",
       "      <td>S4 3.0T Premium Plus</td>\n",
       "      <td>2022</td>\n",
       "      <td>10,900 mi.</td>\n",
       "      <td>Gasoline</td>\n",
       "      <td>349.0HP 3.0L V6 Cylinder Engine Gasoline Fuel</td>\n",
       "      <td>Transmission w/Dual Shift Mode</td>\n",
       "      <td>Black</td>\n",
       "      <td>Black</td>\n",
       "      <td>None reported</td>\n",
       "      <td>Yes</td>\n",
       "      <td>$53,900</td>\n",
       "    </tr>\n",
       "    <tr>\n",
       "      <th>4006</th>\n",
       "      <td>Porsche</td>\n",
       "      <td>Taycan</td>\n",
       "      <td>2022</td>\n",
       "      <td>2,116 mi.</td>\n",
       "      <td>NaN</td>\n",
       "      <td>Electric</td>\n",
       "      <td>Automatic</td>\n",
       "      <td>Black</td>\n",
       "      <td>Black</td>\n",
       "      <td>None reported</td>\n",
       "      <td>NaN</td>\n",
       "      <td>$90,998</td>\n",
       "    </tr>\n",
       "    <tr>\n",
       "      <th>4007</th>\n",
       "      <td>Ford</td>\n",
       "      <td>F-150 Raptor</td>\n",
       "      <td>2020</td>\n",
       "      <td>33,000 mi.</td>\n",
       "      <td>Gasoline</td>\n",
       "      <td>450.0HP 3.5L V6 Cylinder Engine Gasoline Fuel</td>\n",
       "      <td>A/T</td>\n",
       "      <td>Blue</td>\n",
       "      <td>Black</td>\n",
       "      <td>None reported</td>\n",
       "      <td>Yes</td>\n",
       "      <td>$62,999</td>\n",
       "    </tr>\n",
       "    <tr>\n",
       "      <th>4008</th>\n",
       "      <td>BMW</td>\n",
       "      <td>X3 xDrive30i</td>\n",
       "      <td>2020</td>\n",
       "      <td>43,000 mi.</td>\n",
       "      <td>Gasoline</td>\n",
       "      <td>248.0HP 2.0L 4 Cylinder Engine Gasoline Fuel</td>\n",
       "      <td>A/T</td>\n",
       "      <td>Gray</td>\n",
       "      <td>Brown</td>\n",
       "      <td>At least 1 accident or damage reported</td>\n",
       "      <td>Yes</td>\n",
       "      <td>$40,000</td>\n",
       "    </tr>\n",
       "  </tbody>\n",
       "</table>\n",
       "</div>"
      ],
      "text/plain": [
       "        brand                 model  model_year      milage fuel_type  \\\n",
       "4004  Bentley  Continental GT Speed        2023     714 mi.  Gasoline   \n",
       "4005     Audi  S4 3.0T Premium Plus        2022  10,900 mi.  Gasoline   \n",
       "4006  Porsche                Taycan        2022   2,116 mi.       NaN   \n",
       "4007     Ford          F-150 Raptor        2020  33,000 mi.  Gasoline   \n",
       "4008      BMW          X3 xDrive30i        2020  43,000 mi.  Gasoline   \n",
       "\n",
       "                                             engine  \\\n",
       "4004               6.0L W12 48V PDI DOHC Twin Turbo   \n",
       "4005  349.0HP 3.0L V6 Cylinder Engine Gasoline Fuel   \n",
       "4006                                       Electric   \n",
       "4007  450.0HP 3.5L V6 Cylinder Engine Gasoline Fuel   \n",
       "4008   248.0HP 2.0L 4 Cylinder Engine Gasoline Fuel   \n",
       "\n",
       "                           transmission ext_col  int_col  \\\n",
       "4004  8-Speed Automatic with Auto-Shift   C / C  Hotspur   \n",
       "4005     Transmission w/Dual Shift Mode   Black    Black   \n",
       "4006                          Automatic   Black    Black   \n",
       "4007                                A/T    Blue    Black   \n",
       "4008                                A/T    Gray    Brown   \n",
       "\n",
       "                                    accident clean_title     price  \n",
       "4004                           None reported         Yes  $349,950  \n",
       "4005                           None reported         Yes   $53,900  \n",
       "4006                           None reported         NaN   $90,998  \n",
       "4007                           None reported         Yes   $62,999  \n",
       "4008  At least 1 accident or damage reported         Yes   $40,000  "
      ]
     },
     "execution_count": 5,
     "metadata": {},
     "output_type": "execute_result"
    }
   ],
   "source": [
    "df.tail()"
   ]
  },
  {
   "cell_type": "code",
   "execution_count": 6,
   "id": "84ebc5a2",
   "metadata": {},
   "outputs": [
    {
     "data": {
      "text/plain": [
       "(4009, 12)"
      ]
     },
     "execution_count": 6,
     "metadata": {},
     "output_type": "execute_result"
    }
   ],
   "source": [
    "df.shape"
   ]
  },
  {
   "cell_type": "markdown",
   "id": "9e0f7c2d",
   "metadata": {},
   "source": [
    "### Data Preprocessing "
   ]
  },
  {
   "cell_type": "code",
   "execution_count": 7,
   "id": "ff0dd5b8",
   "metadata": {
    "scrolled": false
   },
   "outputs": [
    {
     "data": {
      "text/html": [
       "<div>\n",
       "<style scoped>\n",
       "    .dataframe tbody tr th:only-of-type {\n",
       "        vertical-align: middle;\n",
       "    }\n",
       "\n",
       "    .dataframe tbody tr th {\n",
       "        vertical-align: top;\n",
       "    }\n",
       "\n",
       "    .dataframe thead th {\n",
       "        text-align: right;\n",
       "    }\n",
       "</style>\n",
       "<table border=\"1\" class=\"dataframe\">\n",
       "  <thead>\n",
       "    <tr style=\"text-align: right;\">\n",
       "      <th></th>\n",
       "      <th>brand</th>\n",
       "      <th>model</th>\n",
       "      <th>model_year</th>\n",
       "      <th>milage</th>\n",
       "      <th>fuel_type</th>\n",
       "      <th>engine</th>\n",
       "      <th>transmission</th>\n",
       "      <th>ext_col</th>\n",
       "      <th>int_col</th>\n",
       "      <th>accident</th>\n",
       "      <th>clean_title</th>\n",
       "      <th>price</th>\n",
       "    </tr>\n",
       "  </thead>\n",
       "  <tbody>\n",
       "    <tr>\n",
       "      <th>count</th>\n",
       "      <td>4009</td>\n",
       "      <td>4009</td>\n",
       "      <td>4009.000000</td>\n",
       "      <td>4009</td>\n",
       "      <td>3839</td>\n",
       "      <td>4009</td>\n",
       "      <td>4009</td>\n",
       "      <td>4009</td>\n",
       "      <td>4009</td>\n",
       "      <td>3896</td>\n",
       "      <td>3413</td>\n",
       "      <td>4009</td>\n",
       "    </tr>\n",
       "    <tr>\n",
       "      <th>unique</th>\n",
       "      <td>57</td>\n",
       "      <td>1898</td>\n",
       "      <td>NaN</td>\n",
       "      <td>2818</td>\n",
       "      <td>7</td>\n",
       "      <td>1146</td>\n",
       "      <td>62</td>\n",
       "      <td>319</td>\n",
       "      <td>156</td>\n",
       "      <td>2</td>\n",
       "      <td>1</td>\n",
       "      <td>1569</td>\n",
       "    </tr>\n",
       "    <tr>\n",
       "      <th>top</th>\n",
       "      <td>Ford</td>\n",
       "      <td>M3 Base</td>\n",
       "      <td>NaN</td>\n",
       "      <td>110,000 mi.</td>\n",
       "      <td>Gasoline</td>\n",
       "      <td>2.0L I4 16V GDI DOHC Turbo</td>\n",
       "      <td>A/T</td>\n",
       "      <td>Black</td>\n",
       "      <td>Black</td>\n",
       "      <td>None reported</td>\n",
       "      <td>Yes</td>\n",
       "      <td>$15,000</td>\n",
       "    </tr>\n",
       "    <tr>\n",
       "      <th>freq</th>\n",
       "      <td>386</td>\n",
       "      <td>30</td>\n",
       "      <td>NaN</td>\n",
       "      <td>16</td>\n",
       "      <td>3309</td>\n",
       "      <td>52</td>\n",
       "      <td>1037</td>\n",
       "      <td>905</td>\n",
       "      <td>2025</td>\n",
       "      <td>2910</td>\n",
       "      <td>3413</td>\n",
       "      <td>39</td>\n",
       "    </tr>\n",
       "    <tr>\n",
       "      <th>mean</th>\n",
       "      <td>NaN</td>\n",
       "      <td>NaN</td>\n",
       "      <td>2015.515590</td>\n",
       "      <td>NaN</td>\n",
       "      <td>NaN</td>\n",
       "      <td>NaN</td>\n",
       "      <td>NaN</td>\n",
       "      <td>NaN</td>\n",
       "      <td>NaN</td>\n",
       "      <td>NaN</td>\n",
       "      <td>NaN</td>\n",
       "      <td>NaN</td>\n",
       "    </tr>\n",
       "    <tr>\n",
       "      <th>std</th>\n",
       "      <td>NaN</td>\n",
       "      <td>NaN</td>\n",
       "      <td>6.104816</td>\n",
       "      <td>NaN</td>\n",
       "      <td>NaN</td>\n",
       "      <td>NaN</td>\n",
       "      <td>NaN</td>\n",
       "      <td>NaN</td>\n",
       "      <td>NaN</td>\n",
       "      <td>NaN</td>\n",
       "      <td>NaN</td>\n",
       "      <td>NaN</td>\n",
       "    </tr>\n",
       "    <tr>\n",
       "      <th>min</th>\n",
       "      <td>NaN</td>\n",
       "      <td>NaN</td>\n",
       "      <td>1974.000000</td>\n",
       "      <td>NaN</td>\n",
       "      <td>NaN</td>\n",
       "      <td>NaN</td>\n",
       "      <td>NaN</td>\n",
       "      <td>NaN</td>\n",
       "      <td>NaN</td>\n",
       "      <td>NaN</td>\n",
       "      <td>NaN</td>\n",
       "      <td>NaN</td>\n",
       "    </tr>\n",
       "    <tr>\n",
       "      <th>25%</th>\n",
       "      <td>NaN</td>\n",
       "      <td>NaN</td>\n",
       "      <td>2012.000000</td>\n",
       "      <td>NaN</td>\n",
       "      <td>NaN</td>\n",
       "      <td>NaN</td>\n",
       "      <td>NaN</td>\n",
       "      <td>NaN</td>\n",
       "      <td>NaN</td>\n",
       "      <td>NaN</td>\n",
       "      <td>NaN</td>\n",
       "      <td>NaN</td>\n",
       "    </tr>\n",
       "    <tr>\n",
       "      <th>50%</th>\n",
       "      <td>NaN</td>\n",
       "      <td>NaN</td>\n",
       "      <td>2017.000000</td>\n",
       "      <td>NaN</td>\n",
       "      <td>NaN</td>\n",
       "      <td>NaN</td>\n",
       "      <td>NaN</td>\n",
       "      <td>NaN</td>\n",
       "      <td>NaN</td>\n",
       "      <td>NaN</td>\n",
       "      <td>NaN</td>\n",
       "      <td>NaN</td>\n",
       "    </tr>\n",
       "    <tr>\n",
       "      <th>75%</th>\n",
       "      <td>NaN</td>\n",
       "      <td>NaN</td>\n",
       "      <td>2020.000000</td>\n",
       "      <td>NaN</td>\n",
       "      <td>NaN</td>\n",
       "      <td>NaN</td>\n",
       "      <td>NaN</td>\n",
       "      <td>NaN</td>\n",
       "      <td>NaN</td>\n",
       "      <td>NaN</td>\n",
       "      <td>NaN</td>\n",
       "      <td>NaN</td>\n",
       "    </tr>\n",
       "    <tr>\n",
       "      <th>max</th>\n",
       "      <td>NaN</td>\n",
       "      <td>NaN</td>\n",
       "      <td>2024.000000</td>\n",
       "      <td>NaN</td>\n",
       "      <td>NaN</td>\n",
       "      <td>NaN</td>\n",
       "      <td>NaN</td>\n",
       "      <td>NaN</td>\n",
       "      <td>NaN</td>\n",
       "      <td>NaN</td>\n",
       "      <td>NaN</td>\n",
       "      <td>NaN</td>\n",
       "    </tr>\n",
       "  </tbody>\n",
       "</table>\n",
       "</div>"
      ],
      "text/plain": [
       "       brand    model   model_year       milage fuel_type  \\\n",
       "count   4009     4009  4009.000000         4009      3839   \n",
       "unique    57     1898          NaN         2818         7   \n",
       "top     Ford  M3 Base          NaN  110,000 mi.  Gasoline   \n",
       "freq     386       30          NaN           16      3309   \n",
       "mean     NaN      NaN  2015.515590          NaN       NaN   \n",
       "std      NaN      NaN     6.104816          NaN       NaN   \n",
       "min      NaN      NaN  1974.000000          NaN       NaN   \n",
       "25%      NaN      NaN  2012.000000          NaN       NaN   \n",
       "50%      NaN      NaN  2017.000000          NaN       NaN   \n",
       "75%      NaN      NaN  2020.000000          NaN       NaN   \n",
       "max      NaN      NaN  2024.000000          NaN       NaN   \n",
       "\n",
       "                            engine transmission ext_col int_col  \\\n",
       "count                         4009         4009    4009    4009   \n",
       "unique                        1146           62     319     156   \n",
       "top     2.0L I4 16V GDI DOHC Turbo          A/T   Black   Black   \n",
       "freq                            52         1037     905    2025   \n",
       "mean                           NaN          NaN     NaN     NaN   \n",
       "std                            NaN          NaN     NaN     NaN   \n",
       "min                            NaN          NaN     NaN     NaN   \n",
       "25%                            NaN          NaN     NaN     NaN   \n",
       "50%                            NaN          NaN     NaN     NaN   \n",
       "75%                            NaN          NaN     NaN     NaN   \n",
       "max                            NaN          NaN     NaN     NaN   \n",
       "\n",
       "             accident clean_title    price  \n",
       "count            3896        3413     4009  \n",
       "unique              2           1     1569  \n",
       "top     None reported         Yes  $15,000  \n",
       "freq             2910        3413       39  \n",
       "mean              NaN         NaN      NaN  \n",
       "std               NaN         NaN      NaN  \n",
       "min               NaN         NaN      NaN  \n",
       "25%               NaN         NaN      NaN  \n",
       "50%               NaN         NaN      NaN  \n",
       "75%               NaN         NaN      NaN  \n",
       "max               NaN         NaN      NaN  "
      ]
     },
     "execution_count": 7,
     "metadata": {},
     "output_type": "execute_result"
    }
   ],
   "source": [
    "df.describe(include='all')"
   ]
  },
  {
   "cell_type": "code",
   "execution_count": 8,
   "id": "326bbb61",
   "metadata": {},
   "outputs": [
    {
     "name": "stdout",
     "output_type": "stream",
     "text": [
      "<class 'pandas.core.frame.DataFrame'>\n",
      "RangeIndex: 4009 entries, 0 to 4008\n",
      "Data columns (total 12 columns):\n",
      " #   Column        Non-Null Count  Dtype \n",
      "---  ------        --------------  ----- \n",
      " 0   brand         4009 non-null   object\n",
      " 1   model         4009 non-null   object\n",
      " 2   model_year    4009 non-null   int64 \n",
      " 3   milage        4009 non-null   object\n",
      " 4   fuel_type     3839 non-null   object\n",
      " 5   engine        4009 non-null   object\n",
      " 6   transmission  4009 non-null   object\n",
      " 7   ext_col       4009 non-null   object\n",
      " 8   int_col       4009 non-null   object\n",
      " 9   accident      3896 non-null   object\n",
      " 10  clean_title   3413 non-null   object\n",
      " 11  price         4009 non-null   object\n",
      "dtypes: int64(1), object(11)\n",
      "memory usage: 376.0+ KB\n"
     ]
    }
   ],
   "source": [
    "df.info()"
   ]
  },
  {
   "cell_type": "code",
   "execution_count": 9,
   "id": "33a13c36",
   "metadata": {},
   "outputs": [],
   "source": [
    "import re\n",
    "pattern=r'[^\\w\\s]'\n",
    "df['price']=df['price'].replace(pattern,'',regex=True)"
   ]
  },
  {
   "cell_type": "code",
   "execution_count": 10,
   "id": "0fef5891",
   "metadata": {},
   "outputs": [],
   "source": [
    "char=[',','mi.']\n",
    "for i in char:\n",
    "    df['milage']=df['milage'].replace(i,'',regex=True)\n",
    "    \n",
    "df['milage']=df['milage'].astype('int')"
   ]
  },
  {
   "cell_type": "code",
   "execution_count": 11,
   "id": "87803e7c",
   "metadata": {},
   "outputs": [
    {
     "data": {
      "text/html": [
       "<div>\n",
       "<style scoped>\n",
       "    .dataframe tbody tr th:only-of-type {\n",
       "        vertical-align: middle;\n",
       "    }\n",
       "\n",
       "    .dataframe tbody tr th {\n",
       "        vertical-align: top;\n",
       "    }\n",
       "\n",
       "    .dataframe thead th {\n",
       "        text-align: right;\n",
       "    }\n",
       "</style>\n",
       "<table border=\"1\" class=\"dataframe\">\n",
       "  <thead>\n",
       "    <tr style=\"text-align: right;\">\n",
       "      <th></th>\n",
       "      <th>brand</th>\n",
       "      <th>model</th>\n",
       "      <th>model_year</th>\n",
       "      <th>milage</th>\n",
       "      <th>fuel_type</th>\n",
       "      <th>engine</th>\n",
       "      <th>transmission</th>\n",
       "      <th>ext_col</th>\n",
       "      <th>int_col</th>\n",
       "      <th>accident</th>\n",
       "      <th>clean_title</th>\n",
       "      <th>price</th>\n",
       "    </tr>\n",
       "  </thead>\n",
       "  <tbody>\n",
       "    <tr>\n",
       "      <th>0</th>\n",
       "      <td>Ford</td>\n",
       "      <td>Utility Police Interceptor Base</td>\n",
       "      <td>2013</td>\n",
       "      <td>51000</td>\n",
       "      <td>E85 Flex Fuel</td>\n",
       "      <td>300.0HP 3.7L V6 Cylinder Engine Flex Fuel Capa...</td>\n",
       "      <td>6-Speed A/T</td>\n",
       "      <td>Black</td>\n",
       "      <td>Black</td>\n",
       "      <td>At least 1 accident or damage reported</td>\n",
       "      <td>Yes</td>\n",
       "      <td>10300</td>\n",
       "    </tr>\n",
       "    <tr>\n",
       "      <th>1</th>\n",
       "      <td>Hyundai</td>\n",
       "      <td>Palisade SEL</td>\n",
       "      <td>2021</td>\n",
       "      <td>34742</td>\n",
       "      <td>Gasoline</td>\n",
       "      <td>3.8L V6 24V GDI DOHC</td>\n",
       "      <td>8-Speed Automatic</td>\n",
       "      <td>Moonlight Cloud</td>\n",
       "      <td>Gray</td>\n",
       "      <td>At least 1 accident or damage reported</td>\n",
       "      <td>Yes</td>\n",
       "      <td>38005</td>\n",
       "    </tr>\n",
       "    <tr>\n",
       "      <th>2</th>\n",
       "      <td>Lexus</td>\n",
       "      <td>RX 350 RX 350</td>\n",
       "      <td>2022</td>\n",
       "      <td>22372</td>\n",
       "      <td>Gasoline</td>\n",
       "      <td>3.5 Liter DOHC</td>\n",
       "      <td>Automatic</td>\n",
       "      <td>Blue</td>\n",
       "      <td>Black</td>\n",
       "      <td>None reported</td>\n",
       "      <td>NaN</td>\n",
       "      <td>54598</td>\n",
       "    </tr>\n",
       "    <tr>\n",
       "      <th>3</th>\n",
       "      <td>INFINITI</td>\n",
       "      <td>Q50 Hybrid Sport</td>\n",
       "      <td>2015</td>\n",
       "      <td>88900</td>\n",
       "      <td>Hybrid</td>\n",
       "      <td>354.0HP 3.5L V6 Cylinder Engine Gas/Electric H...</td>\n",
       "      <td>7-Speed A/T</td>\n",
       "      <td>Black</td>\n",
       "      <td>Black</td>\n",
       "      <td>None reported</td>\n",
       "      <td>Yes</td>\n",
       "      <td>15500</td>\n",
       "    </tr>\n",
       "    <tr>\n",
       "      <th>4</th>\n",
       "      <td>Audi</td>\n",
       "      <td>Q3 45 S line Premium Plus</td>\n",
       "      <td>2021</td>\n",
       "      <td>9835</td>\n",
       "      <td>Gasoline</td>\n",
       "      <td>2.0L I4 16V GDI DOHC Turbo</td>\n",
       "      <td>8-Speed Automatic</td>\n",
       "      <td>Glacier White Metallic</td>\n",
       "      <td>Black</td>\n",
       "      <td>None reported</td>\n",
       "      <td>NaN</td>\n",
       "      <td>34999</td>\n",
       "    </tr>\n",
       "  </tbody>\n",
       "</table>\n",
       "</div>"
      ],
      "text/plain": [
       "      brand                            model  model_year  milage  \\\n",
       "0      Ford  Utility Police Interceptor Base        2013   51000   \n",
       "1   Hyundai                     Palisade SEL        2021   34742   \n",
       "2     Lexus                    RX 350 RX 350        2022   22372   \n",
       "3  INFINITI                 Q50 Hybrid Sport        2015   88900   \n",
       "4      Audi        Q3 45 S line Premium Plus        2021    9835   \n",
       "\n",
       "       fuel_type                                             engine  \\\n",
       "0  E85 Flex Fuel  300.0HP 3.7L V6 Cylinder Engine Flex Fuel Capa...   \n",
       "1       Gasoline                               3.8L V6 24V GDI DOHC   \n",
       "2       Gasoline                                     3.5 Liter DOHC   \n",
       "3         Hybrid  354.0HP 3.5L V6 Cylinder Engine Gas/Electric H...   \n",
       "4       Gasoline                         2.0L I4 16V GDI DOHC Turbo   \n",
       "\n",
       "        transmission                 ext_col int_col  \\\n",
       "0        6-Speed A/T                   Black   Black   \n",
       "1  8-Speed Automatic         Moonlight Cloud    Gray   \n",
       "2          Automatic                    Blue   Black   \n",
       "3        7-Speed A/T                   Black   Black   \n",
       "4  8-Speed Automatic  Glacier White Metallic   Black   \n",
       "\n",
       "                                 accident clean_title  price  \n",
       "0  At least 1 accident or damage reported         Yes  10300  \n",
       "1  At least 1 accident or damage reported         Yes  38005  \n",
       "2                           None reported         NaN  54598  \n",
       "3                           None reported         Yes  15500  \n",
       "4                           None reported         NaN  34999  "
      ]
     },
     "execution_count": 11,
     "metadata": {},
     "output_type": "execute_result"
    }
   ],
   "source": [
    "df.head()"
   ]
  },
  {
   "cell_type": "code",
   "execution_count": 12,
   "id": "d8b147ee",
   "metadata": {},
   "outputs": [],
   "source": [
    "df['milage']=df['milage'].astype('int')\n",
    "df['price']=df['price'].astype('int')\n",
    "df['model_year']=df['model_year'].astype('object')"
   ]
  },
  {
   "cell_type": "code",
   "execution_count": 13,
   "id": "026a561a",
   "metadata": {},
   "outputs": [
    {
     "name": "stdout",
     "output_type": "stream",
     "text": [
      "<class 'pandas.core.frame.DataFrame'>\n",
      "RangeIndex: 4009 entries, 0 to 4008\n",
      "Data columns (total 12 columns):\n",
      " #   Column        Non-Null Count  Dtype \n",
      "---  ------        --------------  ----- \n",
      " 0   brand         4009 non-null   object\n",
      " 1   model         4009 non-null   object\n",
      " 2   model_year    4009 non-null   object\n",
      " 3   milage        4009 non-null   int32 \n",
      " 4   fuel_type     3839 non-null   object\n",
      " 5   engine        4009 non-null   object\n",
      " 6   transmission  4009 non-null   object\n",
      " 7   ext_col       4009 non-null   object\n",
      " 8   int_col       4009 non-null   object\n",
      " 9   accident      3896 non-null   object\n",
      " 10  clean_title   3413 non-null   object\n",
      " 11  price         4009 non-null   int32 \n",
      "dtypes: int32(2), object(10)\n",
      "memory usage: 344.6+ KB\n"
     ]
    }
   ],
   "source": [
    "df.info()"
   ]
  },
  {
   "cell_type": "code",
   "execution_count": 14,
   "id": "7b7c49c4",
   "metadata": {},
   "outputs": [
    {
     "data": {
      "text/plain": [
       "brand           0.000000\n",
       "model           0.000000\n",
       "model_year      0.000000\n",
       "milage          0.000000\n",
       "fuel_type       0.042405\n",
       "engine          0.000000\n",
       "transmission    0.000000\n",
       "ext_col         0.000000\n",
       "int_col         0.000000\n",
       "accident        0.028187\n",
       "clean_title     0.148666\n",
       "price           0.000000\n",
       "dtype: float64"
      ]
     },
     "execution_count": 14,
     "metadata": {},
     "output_type": "execute_result"
    }
   ],
   "source": [
    "df.isnull().sum()/df.shape[0]"
   ]
  },
  {
   "cell_type": "code",
   "execution_count": 15,
   "id": "294f7432",
   "metadata": {},
   "outputs": [],
   "source": [
    "for i in df.columns:\n",
    "    df[i]=df[i].replace('–',None)"
   ]
  },
  {
   "cell_type": "code",
   "execution_count": 16,
   "id": "8f27d48e",
   "metadata": {},
   "outputs": [
    {
     "data": {
      "image/png": "[encoded data removed]",
      "text/plain": [
       "<Figure size 2500x1000 with 2 Axes>"
      ]
     },
     "metadata": {},
     "output_type": "display_data"
    }
   ],
   "source": [
    "msno.matrix(df)\n",
    "plt.show()"
   ]
  },
  {
   "cell_type": "code",
   "execution_count": 17,
   "id": "a9e73808",
   "metadata": {},
   "outputs": [],
   "source": [
    "df['clean_title'].fillna(df['clean_title'].mode(),inplace=True)"
   ]
  },
  {
   "cell_type": "code",
   "execution_count": 18,
   "id": "231a8ac2",
   "metadata": {},
   "outputs": [],
   "source": [
    "df.dropna(how='any',inplace=True)"
   ]
  },
  {
   "cell_type": "code",
   "execution_count": 19,
   "id": "fea7d650",
   "metadata": {},
   "outputs": [
    {
     "data": {
      "text/plain": [
       "brand           0\n",
       "model           0\n",
       "model_year      0\n",
       "milage          0\n",
       "fuel_type       0\n",
       "engine          0\n",
       "transmission    0\n",
       "ext_col         0\n",
       "int_col         0\n",
       "accident        0\n",
       "clean_title     0\n",
       "price           0\n",
       "dtype: int64"
      ]
     },
     "execution_count": 19,
     "metadata": {},
     "output_type": "execute_result"
    }
   ],
   "source": [
    "df.isnull().sum()"
   ]
  },
  {
   "cell_type": "code",
   "execution_count": 20,
   "id": "a3a9a785",
   "metadata": {},
   "outputs": [],
   "source": [
    "cat_df=df.select_dtypes(include='object')\n",
    "num_df=df.select_dtypes(include='int')"
   ]
  },
  {
   "cell_type": "code",
   "execution_count": 21,
   "id": "6e417609",
   "metadata": {},
   "outputs": [
    {
     "data": {
      "text/html": [
       "<div>\n",
       "<style scoped>\n",
       "    .dataframe tbody tr th:only-of-type {\n",
       "        vertical-align: middle;\n",
       "    }\n",
       "\n",
       "    .dataframe tbody tr th {\n",
       "        vertical-align: top;\n",
       "    }\n",
       "\n",
       "    .dataframe thead th {\n",
       "        text-align: right;\n",
       "    }\n",
       "</style>\n",
       "<table border=\"1\" class=\"dataframe\">\n",
       "  <thead>\n",
       "    <tr style=\"text-align: right;\">\n",
       "      <th></th>\n",
       "      <th>brand</th>\n",
       "      <th>model</th>\n",
       "      <th>model_year</th>\n",
       "      <th>fuel_type</th>\n",
       "      <th>engine</th>\n",
       "      <th>transmission</th>\n",
       "      <th>ext_col</th>\n",
       "      <th>int_col</th>\n",
       "      <th>accident</th>\n",
       "      <th>clean_title</th>\n",
       "    </tr>\n",
       "  </thead>\n",
       "  <tbody>\n",
       "    <tr>\n",
       "      <th>0</th>\n",
       "      <td>Ford</td>\n",
       "      <td>Utility Police Interceptor Base</td>\n",
       "      <td>2013</td>\n",
       "      <td>E85 Flex Fuel</td>\n",
       "      <td>300.0HP 3.7L V6 Cylinder Engine Flex Fuel Capa...</td>\n",
       "      <td>6-Speed A/T</td>\n",
       "      <td>Black</td>\n",
       "      <td>Black</td>\n",
       "      <td>At least 1 accident or damage reported</td>\n",
       "      <td>Yes</td>\n",
       "    </tr>\n",
       "    <tr>\n",
       "      <th>1</th>\n",
       "      <td>Hyundai</td>\n",
       "      <td>Palisade SEL</td>\n",
       "      <td>2021</td>\n",
       "      <td>Gasoline</td>\n",
       "      <td>3.8L V6 24V GDI DOHC</td>\n",
       "      <td>8-Speed Automatic</td>\n",
       "      <td>Moonlight Cloud</td>\n",
       "      <td>Gray</td>\n",
       "      <td>At least 1 accident or damage reported</td>\n",
       "      <td>Yes</td>\n",
       "    </tr>\n",
       "    <tr>\n",
       "      <th>3</th>\n",
       "      <td>INFINITI</td>\n",
       "      <td>Q50 Hybrid Sport</td>\n",
       "      <td>2015</td>\n",
       "      <td>Hybrid</td>\n",
       "      <td>354.0HP 3.5L V6 Cylinder Engine Gas/Electric H...</td>\n",
       "      <td>7-Speed A/T</td>\n",
       "      <td>Black</td>\n",
       "      <td>Black</td>\n",
       "      <td>None reported</td>\n",
       "      <td>Yes</td>\n",
       "    </tr>\n",
       "    <tr>\n",
       "      <th>6</th>\n",
       "      <td>Audi</td>\n",
       "      <td>S3 2.0T Premium Plus</td>\n",
       "      <td>2017</td>\n",
       "      <td>Gasoline</td>\n",
       "      <td>292.0HP 2.0L 4 Cylinder Engine Gasoline Fuel</td>\n",
       "      <td>6-Speed A/T</td>\n",
       "      <td>Blue</td>\n",
       "      <td>Black</td>\n",
       "      <td>None reported</td>\n",
       "      <td>Yes</td>\n",
       "    </tr>\n",
       "    <tr>\n",
       "      <th>7</th>\n",
       "      <td>BMW</td>\n",
       "      <td>740 iL</td>\n",
       "      <td>2001</td>\n",
       "      <td>Gasoline</td>\n",
       "      <td>282.0HP 4.4L 8 Cylinder Engine Gasoline Fuel</td>\n",
       "      <td>A/T</td>\n",
       "      <td>Green</td>\n",
       "      <td>Green</td>\n",
       "      <td>None reported</td>\n",
       "      <td>Yes</td>\n",
       "    </tr>\n",
       "  </tbody>\n",
       "</table>\n",
       "</div>"
      ],
      "text/plain": [
       "      brand                            model model_year      fuel_type  \\\n",
       "0      Ford  Utility Police Interceptor Base       2013  E85 Flex Fuel   \n",
       "1   Hyundai                     Palisade SEL       2021       Gasoline   \n",
       "3  INFINITI                 Q50 Hybrid Sport       2015         Hybrid   \n",
       "6      Audi             S3 2.0T Premium Plus       2017       Gasoline   \n",
       "7       BMW                           740 iL       2001       Gasoline   \n",
       "\n",
       "                                              engine       transmission  \\\n",
       "0  300.0HP 3.7L V6 Cylinder Engine Flex Fuel Capa...        6-Speed A/T   \n",
       "1                               3.8L V6 24V GDI DOHC  8-Speed Automatic   \n",
       "3  354.0HP 3.5L V6 Cylinder Engine Gas/Electric H...        7-Speed A/T   \n",
       "6       292.0HP 2.0L 4 Cylinder Engine Gasoline Fuel        6-Speed A/T   \n",
       "7       282.0HP 4.4L 8 Cylinder Engine Gasoline Fuel                A/T   \n",
       "\n",
       "           ext_col int_col                                accident clean_title  \n",
       "0            Black   Black  At least 1 accident or damage reported         Yes  \n",
       "1  Moonlight Cloud    Gray  At least 1 accident or damage reported         Yes  \n",
       "3            Black   Black                           None reported         Yes  \n",
       "6             Blue   Black                           None reported         Yes  \n",
       "7            Green   Green                           None reported         Yes  "
      ]
     },
     "execution_count": 21,
     "metadata": {},
     "output_type": "execute_result"
    }
   ],
   "source": [
    "cat_df.head()"
   ]
  },
  {
   "cell_type": "code",
   "execution_count": 22,
   "id": "be888367",
   "metadata": {},
   "outputs": [
    {
     "data": {
      "text/html": [
       "<div>\n",
       "<style scoped>\n",
       "    .dataframe tbody tr th:only-of-type {\n",
       "        vertical-align: middle;\n",
       "    }\n",
       "\n",
       "    .dataframe tbody tr th {\n",
       "        vertical-align: top;\n",
       "    }\n",
       "\n",
       "    .dataframe thead th {\n",
       "        text-align: right;\n",
       "    }\n",
       "</style>\n",
       "<table border=\"1\" class=\"dataframe\">\n",
       "  <thead>\n",
       "    <tr style=\"text-align: right;\">\n",
       "      <th></th>\n",
       "      <th>milage</th>\n",
       "      <th>price</th>\n",
       "    </tr>\n",
       "  </thead>\n",
       "  <tbody>\n",
       "    <tr>\n",
       "      <th>0</th>\n",
       "      <td>51000</td>\n",
       "      <td>10300</td>\n",
       "    </tr>\n",
       "    <tr>\n",
       "      <th>1</th>\n",
       "      <td>34742</td>\n",
       "      <td>38005</td>\n",
       "    </tr>\n",
       "    <tr>\n",
       "      <th>3</th>\n",
       "      <td>88900</td>\n",
       "      <td>15500</td>\n",
       "    </tr>\n",
       "    <tr>\n",
       "      <th>6</th>\n",
       "      <td>84000</td>\n",
       "      <td>31000</td>\n",
       "    </tr>\n",
       "    <tr>\n",
       "      <th>7</th>\n",
       "      <td>242000</td>\n",
       "      <td>7300</td>\n",
       "    </tr>\n",
       "  </tbody>\n",
       "</table>\n",
       "</div>"
      ],
      "text/plain": [
       "   milage  price\n",
       "0   51000  10300\n",
       "1   34742  38005\n",
       "3   88900  15500\n",
       "6   84000  31000\n",
       "7  242000   7300"
      ]
     },
     "execution_count": 22,
     "metadata": {},
     "output_type": "execute_result"
    }
   ],
   "source": [
    "num_df.head()"
   ]
  },
  {
   "cell_type": "code",
   "execution_count": 23,
   "id": "faec417b",
   "metadata": {},
   "outputs": [
    {
     "data": {
      "image/png": "[encoded data removed]",
      "text/plain": [
       "<Figure size 640x480 with 1 Axes>"
      ]
     },
     "metadata": {},
     "output_type": "display_data"
    },
    {
     "data": {
      "image/png": "[encoded data removed]",
      "text/plain": [
       "<Figure size 640x480 with 1 Axes>"
      ]
     },
     "metadata": {},
     "output_type": "display_data"
    }
   ],
   "source": [
    "for col in num_df:\n",
    "    num_df.boxplot(column=col,patch_artist=True,notch=True)\n",
    "    plt.ylabel(col)\n",
    "    plt.show()"
   ]
  },
  {
   "cell_type": "markdown",
   "id": "85e1740e",
   "metadata": {},
   "source": [
    "#### Here from the boxplot we can see that outliers are present in milage and price column. To smooth these noisy data we will use the IQR(Inter Quartile Range) method, in which all the data points that lies outside of upper limit and lower limit wiil be removed from the dataset."
   ]
  },
  {
   "cell_type": "code",
   "execution_count": 24,
   "id": "7d71c762",
   "metadata": {},
   "outputs": [
    {
     "data": {
      "text/plain": [
       "(3127, 2)"
      ]
     },
     "execution_count": 24,
     "metadata": {},
     "output_type": "execute_result"
    }
   ],
   "source": [
    "num_df.shape"
   ]
  },
  {
   "cell_type": "code",
   "execution_count": 25,
   "id": "79f38c31",
   "metadata": {},
   "outputs": [],
   "source": [
    "percentile25=num_df['milage'].quantile(0.25)\n",
    "percentile75=num_df['milage'].quantile(0.75)"
   ]
  },
  {
   "cell_type": "code",
   "execution_count": 26,
   "id": "ef431f4f",
   "metadata": {},
   "outputs": [
    {
     "data": {
      "text/plain": [
       "30000.0"
      ]
     },
     "execution_count": 26,
     "metadata": {},
     "output_type": "execute_result"
    }
   ],
   "source": [
    "percentile25"
   ]
  },
  {
   "cell_type": "code",
   "execution_count": 27,
   "id": "43df8711",
   "metadata": {},
   "outputs": [
    {
     "data": {
      "text/plain": [
       "102000.0"
      ]
     },
     "execution_count": 27,
     "metadata": {},
     "output_type": "execute_result"
    }
   ],
   "source": [
    "percentile75"
   ]
  },
  {
   "cell_type": "code",
   "execution_count": 28,
   "id": "11cde0f7",
   "metadata": {},
   "outputs": [
    {
     "data": {
      "text/plain": [
       "72000.0"
      ]
     },
     "execution_count": 28,
     "metadata": {},
     "output_type": "execute_result"
    }
   ],
   "source": [
    "iqr=percentile75-percentile25\n",
    "iqr"
   ]
  },
  {
   "cell_type": "code",
   "execution_count": 29,
   "id": "f41d1d78",
   "metadata": {},
   "outputs": [],
   "source": [
    "upper_limit=percentile75 + 1.5 * iqr\n",
    "lower_limit=percentile25 - 1.5 * iqr"
   ]
  },
  {
   "cell_type": "code",
   "execution_count": 30,
   "id": "fe0bdd17",
   "metadata": {},
   "outputs": [
    {
     "data": {
      "text/plain": [
       "210000.0"
      ]
     },
     "execution_count": 30,
     "metadata": {},
     "output_type": "execute_result"
    }
   ],
   "source": [
    "upper_limit"
   ]
  },
  {
   "cell_type": "code",
   "execution_count": 31,
   "id": "a0229baf",
   "metadata": {},
   "outputs": [
    {
     "data": {
      "text/plain": [
       "-78000.0"
      ]
     },
     "execution_count": 31,
     "metadata": {},
     "output_type": "execute_result"
    }
   ],
   "source": [
    "lower_limit"
   ]
  },
  {
   "cell_type": "code",
   "execution_count": 32,
   "id": "8811c69f",
   "metadata": {},
   "outputs": [],
   "source": [
    "upper_data_points=num_df[num_df['milage'] > upper_limit]\n",
    "lower_data_points=num_df[num_df['milage'] < lower_limit]"
   ]
  },
  {
   "cell_type": "code",
   "execution_count": 33,
   "id": "a2a690c4",
   "metadata": {},
   "outputs": [
    {
     "data": {
      "text/plain": [
       "(45, 2)"
      ]
     },
     "execution_count": 33,
     "metadata": {},
     "output_type": "execute_result"
    }
   ],
   "source": [
    "upper_data_points.shape"
   ]
  },
  {
   "cell_type": "code",
   "execution_count": 34,
   "id": "a4182b1f",
   "metadata": {},
   "outputs": [
    {
     "data": {
      "text/plain": [
       "(0, 2)"
      ]
     },
     "execution_count": 34,
     "metadata": {},
     "output_type": "execute_result"
    }
   ],
   "source": [
    "lower_data_points.shape"
   ]
  },
  {
   "cell_type": "code",
   "execution_count": 35,
   "id": "44150b3e",
   "metadata": {},
   "outputs": [],
   "source": [
    "#removing the outliers (The Data points that lies outside the IQR )"
   ]
  },
  {
   "cell_type": "code",
   "execution_count": 36,
   "id": "92e4c22b",
   "metadata": {},
   "outputs": [],
   "source": [
    "df=df[(df['milage'] < upper_limit) & (df['milage'] > lower_limit)]"
   ]
  },
  {
   "cell_type": "code",
   "execution_count": 37,
   "id": "4cfa1ed2",
   "metadata": {},
   "outputs": [
    {
     "data": {
      "text/plain": [
       "(3082, 12)"
      ]
     },
     "execution_count": 37,
     "metadata": {},
     "output_type": "execute_result"
    }
   ],
   "source": [
    "df.shape"
   ]
  },
  {
   "cell_type": "code",
   "execution_count": 38,
   "id": "9198073e",
   "metadata": {},
   "outputs": [],
   "source": [
    "# remove outliers in price column also"
   ]
  },
  {
   "cell_type": "code",
   "execution_count": 39,
   "id": "2cbe43b7",
   "metadata": {},
   "outputs": [],
   "source": [
    "percentile25=num_df['price'].quantile(0.25)\n",
    "percentile75=num_df['price'].quantile(0.75)"
   ]
  },
  {
   "cell_type": "code",
   "execution_count": 40,
   "id": "abee3624",
   "metadata": {},
   "outputs": [
    {
     "data": {
      "text/plain": [
       "15575.0"
      ]
     },
     "execution_count": 40,
     "metadata": {},
     "output_type": "execute_result"
    }
   ],
   "source": [
    "percentile25"
   ]
  },
  {
   "cell_type": "code",
   "execution_count": 41,
   "id": "dc7732a5",
   "metadata": {},
   "outputs": [
    {
     "data": {
      "text/plain": [
       "46900.0"
      ]
     },
     "execution_count": 41,
     "metadata": {},
     "output_type": "execute_result"
    }
   ],
   "source": [
    "percentile75"
   ]
  },
  {
   "cell_type": "code",
   "execution_count": 42,
   "id": "68e01090",
   "metadata": {},
   "outputs": [
    {
     "data": {
      "text/plain": [
       "31325.0"
      ]
     },
     "execution_count": 42,
     "metadata": {},
     "output_type": "execute_result"
    }
   ],
   "source": [
    "iqr=percentile75-percentile25\n",
    "iqr"
   ]
  },
  {
   "cell_type": "code",
   "execution_count": 43,
   "id": "1648d198",
   "metadata": {},
   "outputs": [],
   "source": [
    "upper_limit=percentile75 + 1.5 * iqr\n",
    "lower_limit=percentile25 - 1.5 * iqr"
   ]
  },
  {
   "cell_type": "code",
   "execution_count": 44,
   "id": "578c40c4",
   "metadata": {},
   "outputs": [
    {
     "data": {
      "text/plain": [
       "93887.5"
      ]
     },
     "execution_count": 44,
     "metadata": {},
     "output_type": "execute_result"
    }
   ],
   "source": [
    "upper_limit"
   ]
  },
  {
   "cell_type": "code",
   "execution_count": 45,
   "id": "d47ddfc9",
   "metadata": {},
   "outputs": [
    {
     "data": {
      "text/plain": [
       "-31412.5"
      ]
     },
     "execution_count": 45,
     "metadata": {},
     "output_type": "execute_result"
    }
   ],
   "source": [
    "lower_limit"
   ]
  },
  {
   "cell_type": "code",
   "execution_count": 46,
   "id": "97c9d104",
   "metadata": {},
   "outputs": [],
   "source": [
    "upper_data_points=num_df[num_df['price'] > upper_limit]\n",
    "lower_data_points=num_df[num_df['price'] < lower_limit]"
   ]
  },
  {
   "cell_type": "code",
   "execution_count": 47,
   "id": "b08c7192",
   "metadata": {},
   "outputs": [
    {
     "data": {
      "text/plain": [
       "(175, 2)"
      ]
     },
     "execution_count": 47,
     "metadata": {},
     "output_type": "execute_result"
    }
   ],
   "source": [
    "upper_data_points.shape"
   ]
  },
  {
   "cell_type": "code",
   "execution_count": 48,
   "id": "49a1134a",
   "metadata": {},
   "outputs": [
    {
     "data": {
      "text/plain": [
       "(0, 2)"
      ]
     },
     "execution_count": 48,
     "metadata": {},
     "output_type": "execute_result"
    }
   ],
   "source": [
    "lower_data_points.shape"
   ]
  },
  {
   "cell_type": "code",
   "execution_count": 49,
   "id": "45911254",
   "metadata": {},
   "outputs": [],
   "source": [
    "df=df[(df['price'] < upper_limit) & (df['price'] > lower_limit)]"
   ]
  },
  {
   "cell_type": "code",
   "execution_count": 50,
   "id": "71e84ea8",
   "metadata": {},
   "outputs": [
    {
     "data": {
      "text/plain": [
       "(2907, 12)"
      ]
     },
     "execution_count": 50,
     "metadata": {},
     "output_type": "execute_result"
    }
   ],
   "source": [
    "df.shape"
   ]
  },
  {
   "cell_type": "code",
   "execution_count": 51,
   "id": "39aaa250",
   "metadata": {},
   "outputs": [],
   "source": [
    "#cheking the distribution of numeric features using distplot"
   ]
  },
  {
   "cell_type": "code",
   "execution_count": 52,
   "id": "e8995cd8",
   "metadata": {},
   "outputs": [
    {
     "data": {
      "image/png": "[encoded data removed]",
      "text/plain": [
       "<Figure size 640x480 with 1 Axes>"
      ]
     },
     "metadata": {},
     "output_type": "display_data"
    },
    {
     "data": {
      "image/png": "[encoded data removed]",
      "text/plain": [
       "<Figure size 640x480 with 1 Axes>"
      ]
     },
     "metadata": {},
     "output_type": "display_data"
    }
   ],
   "source": [
    "sns.set_style('darkgrid')\n",
    "for col in num_df:\n",
    "    sns.distplot(df[col],kde=True,color='blue')\n",
    "    plt.show()"
   ]
  },
  {
   "cell_type": "code",
   "execution_count": 53,
   "id": "53ad70f8",
   "metadata": {},
   "outputs": [
    {
     "data": {
      "image/png": "[encoded data removed]",
      "text/plain": [
       "<Figure size 640x480 with 1 Axes>"
      ]
     },
     "metadata": {},
     "output_type": "display_data"
    },
    {
     "data": {
      "image/png": "[encoded data removed]",
      "text/plain": [
       "<Figure size 640x480 with 1 Axes>"
      ]
     },
     "metadata": {},
     "output_type": "display_data"
    },
    {
     "data": {
      "image/png": "[encoded data removed]",
      "text/plain": [
       "<Figure size 640x480 with 1 Axes>"
      ]
     },
     "metadata": {},
     "output_type": "display_data"
    },
    {
     "data": {
      "image/png": "[encoded data removed]",
      "text/plain": [
       "<Figure size 640x480 with 1 Axes>"
      ]
     },
     "metadata": {},
     "output_type": "display_data"
    },
    {
     "data": {
      "image/png": "[encoded data removed]",
      "text/plain": [
       "<Figure size 640x480 with 1 Axes>"
      ]
     },
     "metadata": {},
     "output_type": "display_data"
    },
    {
     "data": {
      "image/png": "[encoded data removed]",
      "text/plain": [
       "<Figure size 640x480 with 1 Axes>"
      ]
     },
     "metadata": {},
     "output_type": "display_data"
    },
    {
     "data": {
      "image/png": "[encoded data removed]",
      "text/plain": [
       "<Figure size 640x480 with 1 Axes>"
      ]
     },
     "metadata": {},
     "output_type": "display_data"
    },
    {
     "data": {
      "image/png": "[encoded data removed]",
      "text/plain": [
       "<Figure size 640x480 with 1 Axes>"
      ]
     },
     "metadata": {},
     "output_type": "display_data"
    },
    {
     "data": {
      "image/png": "[encoded data removed]",
      "text/plain": [
       "<Figure size 640x480 with 1 Axes>"
      ]
     },
     "metadata": {},
     "output_type": "display_data"
    },
    {
     "data": {
      "image/png": "[encoded data removed]",
      "text/plain": [
       "<Figure size 640x480 with 1 Axes>"
      ]
     },
     "metadata": {},
     "output_type": "display_data"
    }
   ],
   "source": [
    "for col in cat_df:\n",
    "    sns.countplot(x=df[col],palette='rocket')\n",
    "    plt.show()"
   ]
  },
  {
   "cell_type": "code",
   "execution_count": 54,
   "id": "b914c721",
   "metadata": {},
   "outputs": [
    {
     "data": {
      "text/plain": [
       "False    2907\n",
       "dtype: int64"
      ]
     },
     "execution_count": 54,
     "metadata": {},
     "output_type": "execute_result"
    }
   ],
   "source": [
    "df.duplicated().value_counts()"
   ]
  },
  {
   "cell_type": "code",
   "execution_count": 55,
   "id": "8dd08583",
   "metadata": {},
   "outputs": [],
   "source": [
    "# There is no duplicate value"
   ]
  },
  {
   "cell_type": "code",
   "execution_count": 56,
   "id": "9ceaae5c",
   "metadata": {},
   "outputs": [
    {
     "data": {
      "text/html": [
       "<div>\n",
       "<style scoped>\n",
       "    .dataframe tbody tr th:only-of-type {\n",
       "        vertical-align: middle;\n",
       "    }\n",
       "\n",
       "    .dataframe tbody tr th {\n",
       "        vertical-align: top;\n",
       "    }\n",
       "\n",
       "    .dataframe thead th {\n",
       "        text-align: right;\n",
       "    }\n",
       "</style>\n",
       "<table border=\"1\" class=\"dataframe\">\n",
       "  <thead>\n",
       "    <tr style=\"text-align: right;\">\n",
       "      <th></th>\n",
       "      <th>brand</th>\n",
       "      <th>model</th>\n",
       "      <th>model_year</th>\n",
       "      <th>milage</th>\n",
       "      <th>fuel_type</th>\n",
       "      <th>engine</th>\n",
       "      <th>transmission</th>\n",
       "      <th>ext_col</th>\n",
       "      <th>int_col</th>\n",
       "      <th>accident</th>\n",
       "      <th>clean_title</th>\n",
       "      <th>price</th>\n",
       "    </tr>\n",
       "  </thead>\n",
       "  <tbody>\n",
       "    <tr>\n",
       "      <th>0</th>\n",
       "      <td>Ford</td>\n",
       "      <td>Utility Police Interceptor Base</td>\n",
       "      <td>2013</td>\n",
       "      <td>51000</td>\n",
       "      <td>E85 Flex Fuel</td>\n",
       "      <td>300.0HP 3.7L V6 Cylinder Engine Flex Fuel Capa...</td>\n",
       "      <td>6-Speed A/T</td>\n",
       "      <td>Black</td>\n",
       "      <td>Black</td>\n",
       "      <td>At least 1 accident or damage reported</td>\n",
       "      <td>Yes</td>\n",
       "      <td>10300</td>\n",
       "    </tr>\n",
       "    <tr>\n",
       "      <th>1</th>\n",
       "      <td>Hyundai</td>\n",
       "      <td>Palisade SEL</td>\n",
       "      <td>2021</td>\n",
       "      <td>34742</td>\n",
       "      <td>Gasoline</td>\n",
       "      <td>3.8L V6 24V GDI DOHC</td>\n",
       "      <td>8-Speed Automatic</td>\n",
       "      <td>Moonlight Cloud</td>\n",
       "      <td>Gray</td>\n",
       "      <td>At least 1 accident or damage reported</td>\n",
       "      <td>Yes</td>\n",
       "      <td>38005</td>\n",
       "    </tr>\n",
       "    <tr>\n",
       "      <th>3</th>\n",
       "      <td>INFINITI</td>\n",
       "      <td>Q50 Hybrid Sport</td>\n",
       "      <td>2015</td>\n",
       "      <td>88900</td>\n",
       "      <td>Hybrid</td>\n",
       "      <td>354.0HP 3.5L V6 Cylinder Engine Gas/Electric H...</td>\n",
       "      <td>7-Speed A/T</td>\n",
       "      <td>Black</td>\n",
       "      <td>Black</td>\n",
       "      <td>None reported</td>\n",
       "      <td>Yes</td>\n",
       "      <td>15500</td>\n",
       "    </tr>\n",
       "    <tr>\n",
       "      <th>6</th>\n",
       "      <td>Audi</td>\n",
       "      <td>S3 2.0T Premium Plus</td>\n",
       "      <td>2017</td>\n",
       "      <td>84000</td>\n",
       "      <td>Gasoline</td>\n",
       "      <td>292.0HP 2.0L 4 Cylinder Engine Gasoline Fuel</td>\n",
       "      <td>6-Speed A/T</td>\n",
       "      <td>Blue</td>\n",
       "      <td>Black</td>\n",
       "      <td>None reported</td>\n",
       "      <td>Yes</td>\n",
       "      <td>31000</td>\n",
       "    </tr>\n",
       "    <tr>\n",
       "      <th>8</th>\n",
       "      <td>Lexus</td>\n",
       "      <td>RC 350 F Sport</td>\n",
       "      <td>2021</td>\n",
       "      <td>23436</td>\n",
       "      <td>Gasoline</td>\n",
       "      <td>311.0HP 3.5L V6 Cylinder Engine Gasoline Fuel</td>\n",
       "      <td>6-Speed A/T</td>\n",
       "      <td>Black</td>\n",
       "      <td>Black</td>\n",
       "      <td>None reported</td>\n",
       "      <td>Yes</td>\n",
       "      <td>41927</td>\n",
       "    </tr>\n",
       "    <tr>\n",
       "      <th>12</th>\n",
       "      <td>Toyota</td>\n",
       "      <td>Supra 3.0 Premium</td>\n",
       "      <td>2021</td>\n",
       "      <td>12500</td>\n",
       "      <td>Gasoline</td>\n",
       "      <td>382.0HP 3.0L Straight 6 Cylinder Engine Gasoli...</td>\n",
       "      <td>A/T</td>\n",
       "      <td>Yellow</td>\n",
       "      <td>Black</td>\n",
       "      <td>None reported</td>\n",
       "      <td>Yes</td>\n",
       "      <td>53500</td>\n",
       "    </tr>\n",
       "    <tr>\n",
       "      <th>13</th>\n",
       "      <td>Lincoln</td>\n",
       "      <td>Aviator Reserve AWD</td>\n",
       "      <td>2022</td>\n",
       "      <td>18196</td>\n",
       "      <td>Gasoline</td>\n",
       "      <td>400.0HP 3.0L V6 Cylinder Engine Gasoline Fuel</td>\n",
       "      <td>Transmission w/Dual Shift Mode</td>\n",
       "      <td>Black</td>\n",
       "      <td>Brown</td>\n",
       "      <td>None reported</td>\n",
       "      <td>Yes</td>\n",
       "      <td>62000</td>\n",
       "    </tr>\n",
       "    <tr>\n",
       "      <th>15</th>\n",
       "      <td>Land</td>\n",
       "      <td>Rover LR4 HSE</td>\n",
       "      <td>2013</td>\n",
       "      <td>79800</td>\n",
       "      <td>Gasoline</td>\n",
       "      <td>375.0HP 5.0L 8 Cylinder Engine Gasoline Fuel</td>\n",
       "      <td>A/T</td>\n",
       "      <td>White</td>\n",
       "      <td>Black</td>\n",
       "      <td>None reported</td>\n",
       "      <td>Yes</td>\n",
       "      <td>29990</td>\n",
       "    </tr>\n",
       "    <tr>\n",
       "      <th>17</th>\n",
       "      <td>Dodge</td>\n",
       "      <td>Challenger SXT</td>\n",
       "      <td>2013</td>\n",
       "      <td>61074</td>\n",
       "      <td>Gasoline</td>\n",
       "      <td>305.0HP 3.6L V6 Cylinder Engine Gasoline Fuel</td>\n",
       "      <td>A/T</td>\n",
       "      <td>Black</td>\n",
       "      <td>Gray</td>\n",
       "      <td>None reported</td>\n",
       "      <td>Yes</td>\n",
       "      <td>16800</td>\n",
       "    </tr>\n",
       "    <tr>\n",
       "      <th>19</th>\n",
       "      <td>Jaguar</td>\n",
       "      <td>F-TYPE R</td>\n",
       "      <td>2018</td>\n",
       "      <td>35250</td>\n",
       "      <td>Gasoline</td>\n",
       "      <td>550.0HP 5.0L 8 Cylinder Engine Gasoline Fuel</td>\n",
       "      <td>8-Speed A/T</td>\n",
       "      <td>Green</td>\n",
       "      <td>Black</td>\n",
       "      <td>None reported</td>\n",
       "      <td>Yes</td>\n",
       "      <td>68750</td>\n",
       "    </tr>\n",
       "  </tbody>\n",
       "</table>\n",
       "</div>"
      ],
      "text/plain": [
       "       brand                            model model_year  milage  \\\n",
       "0       Ford  Utility Police Interceptor Base       2013   51000   \n",
       "1    Hyundai                     Palisade SEL       2021   34742   \n",
       "3   INFINITI                 Q50 Hybrid Sport       2015   88900   \n",
       "6       Audi             S3 2.0T Premium Plus       2017   84000   \n",
       "8      Lexus                   RC 350 F Sport       2021   23436   \n",
       "12    Toyota                Supra 3.0 Premium       2021   12500   \n",
       "13   Lincoln              Aviator Reserve AWD       2022   18196   \n",
       "15      Land                    Rover LR4 HSE       2013   79800   \n",
       "17     Dodge                   Challenger SXT       2013   61074   \n",
       "19    Jaguar                         F-TYPE R       2018   35250   \n",
       "\n",
       "        fuel_type                                             engine  \\\n",
       "0   E85 Flex Fuel  300.0HP 3.7L V6 Cylinder Engine Flex Fuel Capa...   \n",
       "1        Gasoline                               3.8L V6 24V GDI DOHC   \n",
       "3          Hybrid  354.0HP 3.5L V6 Cylinder Engine Gas/Electric H...   \n",
       "6        Gasoline       292.0HP 2.0L 4 Cylinder Engine Gasoline Fuel   \n",
       "8        Gasoline      311.0HP 3.5L V6 Cylinder Engine Gasoline Fuel   \n",
       "12       Gasoline  382.0HP 3.0L Straight 6 Cylinder Engine Gasoli...   \n",
       "13       Gasoline      400.0HP 3.0L V6 Cylinder Engine Gasoline Fuel   \n",
       "15       Gasoline       375.0HP 5.0L 8 Cylinder Engine Gasoline Fuel   \n",
       "17       Gasoline      305.0HP 3.6L V6 Cylinder Engine Gasoline Fuel   \n",
       "19       Gasoline       550.0HP 5.0L 8 Cylinder Engine Gasoline Fuel   \n",
       "\n",
       "                      transmission          ext_col int_col  \\\n",
       "0                      6-Speed A/T            Black   Black   \n",
       "1                8-Speed Automatic  Moonlight Cloud    Gray   \n",
       "3                      7-Speed A/T            Black   Black   \n",
       "6                      6-Speed A/T             Blue   Black   \n",
       "8                      6-Speed A/T            Black   Black   \n",
       "12                             A/T           Yellow   Black   \n",
       "13  Transmission w/Dual Shift Mode            Black   Brown   \n",
       "15                             A/T            White   Black   \n",
       "17                             A/T            Black    Gray   \n",
       "19                     8-Speed A/T            Green   Black   \n",
       "\n",
       "                                  accident clean_title  price  \n",
       "0   At least 1 accident or damage reported         Yes  10300  \n",
       "1   At least 1 accident or damage reported         Yes  38005  \n",
       "3                            None reported         Yes  15500  \n",
       "6                            None reported         Yes  31000  \n",
       "8                            None reported         Yes  41927  \n",
       "12                           None reported         Yes  53500  \n",
       "13                           None reported         Yes  62000  \n",
       "15                           None reported         Yes  29990  \n",
       "17                           None reported         Yes  16800  \n",
       "19                           None reported         Yes  68750  "
      ]
     },
     "execution_count": 56,
     "metadata": {},
     "output_type": "execute_result"
    }
   ],
   "source": [
    "df.head(10)"
   ]
  },
  {
   "cell_type": "code",
   "execution_count": 57,
   "id": "3eeaf6bf",
   "metadata": {},
   "outputs": [],
   "source": [
    "df.drop(columns=['ext_col','int_col'],inplace=True)"
   ]
  },
  {
   "cell_type": "code",
   "execution_count": 58,
   "id": "bb5effd8",
   "metadata": {},
   "outputs": [
    {
     "data": {
      "text/html": [
       "<div>\n",
       "<style scoped>\n",
       "    .dataframe tbody tr th:only-of-type {\n",
       "        vertical-align: middle;\n",
       "    }\n",
       "\n",
       "    .dataframe tbody tr th {\n",
       "        vertical-align: top;\n",
       "    }\n",
       "\n",
       "    .dataframe thead th {\n",
       "        text-align: right;\n",
       "    }\n",
       "</style>\n",
       "<table border=\"1\" class=\"dataframe\">\n",
       "  <thead>\n",
       "    <tr style=\"text-align: right;\">\n",
       "      <th></th>\n",
       "      <th>brand</th>\n",
       "      <th>model</th>\n",
       "      <th>model_year</th>\n",
       "      <th>milage</th>\n",
       "      <th>fuel_type</th>\n",
       "      <th>engine</th>\n",
       "      <th>transmission</th>\n",
       "      <th>accident</th>\n",
       "      <th>clean_title</th>\n",
       "      <th>price</th>\n",
       "    </tr>\n",
       "  </thead>\n",
       "  <tbody>\n",
       "    <tr>\n",
       "      <th>0</th>\n",
       "      <td>Ford</td>\n",
       "      <td>Utility Police Interceptor Base</td>\n",
       "      <td>2013</td>\n",
       "      <td>51000</td>\n",
       "      <td>E85 Flex Fuel</td>\n",
       "      <td>300.0HP 3.7L V6 Cylinder Engine Flex Fuel Capa...</td>\n",
       "      <td>6-Speed A/T</td>\n",
       "      <td>At least 1 accident or damage reported</td>\n",
       "      <td>Yes</td>\n",
       "      <td>10300</td>\n",
       "    </tr>\n",
       "    <tr>\n",
       "      <th>1</th>\n",
       "      <td>Hyundai</td>\n",
       "      <td>Palisade SEL</td>\n",
       "      <td>2021</td>\n",
       "      <td>34742</td>\n",
       "      <td>Gasoline</td>\n",
       "      <td>3.8L V6 24V GDI DOHC</td>\n",
       "      <td>8-Speed Automatic</td>\n",
       "      <td>At least 1 accident or damage reported</td>\n",
       "      <td>Yes</td>\n",
       "      <td>38005</td>\n",
       "    </tr>\n",
       "    <tr>\n",
       "      <th>3</th>\n",
       "      <td>INFINITI</td>\n",
       "      <td>Q50 Hybrid Sport</td>\n",
       "      <td>2015</td>\n",
       "      <td>88900</td>\n",
       "      <td>Hybrid</td>\n",
       "      <td>354.0HP 3.5L V6 Cylinder Engine Gas/Electric H...</td>\n",
       "      <td>7-Speed A/T</td>\n",
       "      <td>None reported</td>\n",
       "      <td>Yes</td>\n",
       "      <td>15500</td>\n",
       "    </tr>\n",
       "    <tr>\n",
       "      <th>6</th>\n",
       "      <td>Audi</td>\n",
       "      <td>S3 2.0T Premium Plus</td>\n",
       "      <td>2017</td>\n",
       "      <td>84000</td>\n",
       "      <td>Gasoline</td>\n",
       "      <td>292.0HP 2.0L 4 Cylinder Engine Gasoline Fuel</td>\n",
       "      <td>6-Speed A/T</td>\n",
       "      <td>None reported</td>\n",
       "      <td>Yes</td>\n",
       "      <td>31000</td>\n",
       "    </tr>\n",
       "    <tr>\n",
       "      <th>8</th>\n",
       "      <td>Lexus</td>\n",
       "      <td>RC 350 F Sport</td>\n",
       "      <td>2021</td>\n",
       "      <td>23436</td>\n",
       "      <td>Gasoline</td>\n",
       "      <td>311.0HP 3.5L V6 Cylinder Engine Gasoline Fuel</td>\n",
       "      <td>6-Speed A/T</td>\n",
       "      <td>None reported</td>\n",
       "      <td>Yes</td>\n",
       "      <td>41927</td>\n",
       "    </tr>\n",
       "  </tbody>\n",
       "</table>\n",
       "</div>"
      ],
      "text/plain": [
       "      brand                            model model_year  milage  \\\n",
       "0      Ford  Utility Police Interceptor Base       2013   51000   \n",
       "1   Hyundai                     Palisade SEL       2021   34742   \n",
       "3  INFINITI                 Q50 Hybrid Sport       2015   88900   \n",
       "6      Audi             S3 2.0T Premium Plus       2017   84000   \n",
       "8     Lexus                   RC 350 F Sport       2021   23436   \n",
       "\n",
       "       fuel_type                                             engine  \\\n",
       "0  E85 Flex Fuel  300.0HP 3.7L V6 Cylinder Engine Flex Fuel Capa...   \n",
       "1       Gasoline                               3.8L V6 24V GDI DOHC   \n",
       "3         Hybrid  354.0HP 3.5L V6 Cylinder Engine Gas/Electric H...   \n",
       "6       Gasoline       292.0HP 2.0L 4 Cylinder Engine Gasoline Fuel   \n",
       "8       Gasoline      311.0HP 3.5L V6 Cylinder Engine Gasoline Fuel   \n",
       "\n",
       "        transmission                                accident clean_title  \\\n",
       "0        6-Speed A/T  At least 1 accident or damage reported         Yes   \n",
       "1  8-Speed Automatic  At least 1 accident or damage reported         Yes   \n",
       "3        7-Speed A/T                           None reported         Yes   \n",
       "6        6-Speed A/T                           None reported         Yes   \n",
       "8        6-Speed A/T                           None reported         Yes   \n",
       "\n",
       "   price  \n",
       "0  10300  \n",
       "1  38005  \n",
       "3  15500  \n",
       "6  31000  \n",
       "8  41927  "
      ]
     },
     "execution_count": 58,
     "metadata": {},
     "output_type": "execute_result"
    }
   ],
   "source": [
    "df.head()"
   ]
  },
  {
   "cell_type": "markdown",
   "id": "b721a574",
   "metadata": {},
   "source": [
    "### Split the data into train and test "
   ]
  },
  {
   "cell_type": "code",
   "execution_count": 59,
   "id": "46561e1e",
   "metadata": {},
   "outputs": [],
   "source": [
    "x=df.drop(['price'],axis=1)\n",
    "y=df['price']"
   ]
  },
  {
   "cell_type": "code",
   "execution_count": 60,
   "id": "2e6a5c95",
   "metadata": {},
   "outputs": [],
   "source": [
    "from sklearn.model_selection import train_test_split\n",
    "x_train,x_test,y_train,y_test = train_test_split(x,y,test_size=0.2,random_state=50) "
   ]
  },
  {
   "cell_type": "markdown",
   "id": "963a54be",
   "metadata": {},
   "source": [
    "### Transforming Categorical features into Numeric "
   ]
  },
  {
   "cell_type": "code",
   "execution_count": 61,
   "id": "5d02cc86",
   "metadata": {},
   "outputs": [],
   "source": [
    "import category_encoders as ce"
   ]
  },
  {
   "cell_type": "code",
   "execution_count": 62,
   "id": "bfcc463d",
   "metadata": {},
   "outputs": [],
   "source": [
    "encoder=ce.TargetEncoder(cols=['brand', 'model','model_year','fuel_type','engine','transmission'])\n",
    "lenc=encoder.fit(x_train,y_train)"
   ]
  },
  {
   "cell_type": "code",
   "execution_count": 63,
   "id": "f84a8ff6",
   "metadata": {},
   "outputs": [],
   "source": [
    "x_train=lenc.transform(x_train)\n",
    "x_test=lenc.transform(x_test)"
   ]
  },
  {
   "cell_type": "code",
   "execution_count": 64,
   "id": "745d1a97",
   "metadata": {
    "scrolled": true
   },
   "outputs": [
    {
     "data": {
      "text/html": [
       "<div>\n",
       "<style scoped>\n",
       "    .dataframe tbody tr th:only-of-type {\n",
       "        vertical-align: middle;\n",
       "    }\n",
       "\n",
       "    .dataframe tbody tr th {\n",
       "        vertical-align: top;\n",
       "    }\n",
       "\n",
       "    .dataframe thead th {\n",
       "        text-align: right;\n",
       "    }\n",
       "</style>\n",
       "<table border=\"1\" class=\"dataframe\">\n",
       "  <thead>\n",
       "    <tr style=\"text-align: right;\">\n",
       "      <th></th>\n",
       "      <th>brand</th>\n",
       "      <th>model</th>\n",
       "      <th>model_year</th>\n",
       "      <th>milage</th>\n",
       "      <th>fuel_type</th>\n",
       "      <th>engine</th>\n",
       "      <th>transmission</th>\n",
       "      <th>accident</th>\n",
       "      <th>clean_title</th>\n",
       "    </tr>\n",
       "  </thead>\n",
       "  <tbody>\n",
       "    <tr>\n",
       "      <th>3620</th>\n",
       "      <td>46929.065791</td>\n",
       "      <td>39458.665129</td>\n",
       "      <td>16570.787620</td>\n",
       "      <td>50500</td>\n",
       "      <td>30660.327909</td>\n",
       "      <td>35963.282054</td>\n",
       "      <td>28965.115616</td>\n",
       "      <td>None reported</td>\n",
       "      <td>Yes</td>\n",
       "    </tr>\n",
       "    <tr>\n",
       "      <th>1815</th>\n",
       "      <td>24804.625392</td>\n",
       "      <td>31547.066003</td>\n",
       "      <td>44862.276417</td>\n",
       "      <td>32500</td>\n",
       "      <td>30660.327909</td>\n",
       "      <td>30453.834367</td>\n",
       "      <td>25667.992200</td>\n",
       "      <td>None reported</td>\n",
       "      <td>Yes</td>\n",
       "    </tr>\n",
       "    <tr>\n",
       "      <th>2215</th>\n",
       "      <td>33521.916996</td>\n",
       "      <td>30837.003820</td>\n",
       "      <td>16700.320184</td>\n",
       "      <td>74500</td>\n",
       "      <td>30660.327909</td>\n",
       "      <td>30114.902186</td>\n",
       "      <td>28965.115616</td>\n",
       "      <td>None reported</td>\n",
       "      <td>Yes</td>\n",
       "    </tr>\n",
       "    <tr>\n",
       "      <th>755</th>\n",
       "      <td>35886.459487</td>\n",
       "      <td>31928.175408</td>\n",
       "      <td>23396.060661</td>\n",
       "      <td>127500</td>\n",
       "      <td>30660.327909</td>\n",
       "      <td>31306.372242</td>\n",
       "      <td>37024.321555</td>\n",
       "      <td>None reported</td>\n",
       "      <td>Yes</td>\n",
       "    </tr>\n",
       "    <tr>\n",
       "      <th>477</th>\n",
       "      <td>31358.834039</td>\n",
       "      <td>39177.510328</td>\n",
       "      <td>40418.691753</td>\n",
       "      <td>61000</td>\n",
       "      <td>30660.327909</td>\n",
       "      <td>39177.510328</td>\n",
       "      <td>37024.321555</td>\n",
       "      <td>None reported</td>\n",
       "      <td>Yes</td>\n",
       "    </tr>\n",
       "  </tbody>\n",
       "</table>\n",
       "</div>"
      ],
      "text/plain": [
       "             brand         model    model_year  milage     fuel_type  \\\n",
       "3620  46929.065791  39458.665129  16570.787620   50500  30660.327909   \n",
       "1815  24804.625392  31547.066003  44862.276417   32500  30660.327909   \n",
       "2215  33521.916996  30837.003820  16700.320184   74500  30660.327909   \n",
       "755   35886.459487  31928.175408  23396.060661  127500  30660.327909   \n",
       "477   31358.834039  39177.510328  40418.691753   61000  30660.327909   \n",
       "\n",
       "            engine  transmission       accident clean_title  \n",
       "3620  35963.282054  28965.115616  None reported         Yes  \n",
       "1815  30453.834367  25667.992200  None reported         Yes  \n",
       "2215  30114.902186  28965.115616  None reported         Yes  \n",
       "755   31306.372242  37024.321555  None reported         Yes  \n",
       "477   39177.510328  37024.321555  None reported         Yes  "
      ]
     },
     "execution_count": 64,
     "metadata": {},
     "output_type": "execute_result"
    }
   ],
   "source": [
    "x_train.head()"
   ]
  },
  {
   "cell_type": "code",
   "execution_count": 65,
   "id": "8f3b7a2d",
   "metadata": {},
   "outputs": [],
   "source": [
    "x_train=pd.get_dummies(data=x_train,columns=['accident','clean_title'])\n",
    "x_test=pd.get_dummies(data=x_test,columns=['accident','clean_title'])"
   ]
  },
  {
   "cell_type": "code",
   "execution_count": 66,
   "id": "9f14047d",
   "metadata": {
    "scrolled": true
   },
   "outputs": [
    {
     "data": {
      "text/html": [
       "<div>\n",
       "<style scoped>\n",
       "    .dataframe tbody tr th:only-of-type {\n",
       "        vertical-align: middle;\n",
       "    }\n",
       "\n",
       "    .dataframe tbody tr th {\n",
       "        vertical-align: top;\n",
       "    }\n",
       "\n",
       "    .dataframe thead th {\n",
       "        text-align: right;\n",
       "    }\n",
       "</style>\n",
       "<table border=\"1\" class=\"dataframe\">\n",
       "  <thead>\n",
       "    <tr style=\"text-align: right;\">\n",
       "      <th></th>\n",
       "      <th>brand</th>\n",
       "      <th>model</th>\n",
       "      <th>model_year</th>\n",
       "      <th>milage</th>\n",
       "      <th>fuel_type</th>\n",
       "      <th>engine</th>\n",
       "      <th>transmission</th>\n",
       "      <th>accident_At least 1 accident or damage reported</th>\n",
       "      <th>accident_None reported</th>\n",
       "      <th>clean_title_Yes</th>\n",
       "    </tr>\n",
       "  </thead>\n",
       "  <tbody>\n",
       "    <tr>\n",
       "      <th>0</th>\n",
       "      <td>29164.171516</td>\n",
       "      <td>31807.282952</td>\n",
       "      <td>23199.482107</td>\n",
       "      <td>87066</td>\n",
       "      <td>30660.327909</td>\n",
       "      <td>29986.834662</td>\n",
       "      <td>40642.564102</td>\n",
       "      <td>0</td>\n",
       "      <td>1</td>\n",
       "      <td>1</td>\n",
       "    </tr>\n",
       "    <tr>\n",
       "      <th>1</th>\n",
       "      <td>29774.188502</td>\n",
       "      <td>30375.816281</td>\n",
       "      <td>28666.899263</td>\n",
       "      <td>101900</td>\n",
       "      <td>30660.327909</td>\n",
       "      <td>31775.795606</td>\n",
       "      <td>17502.032619</td>\n",
       "      <td>0</td>\n",
       "      <td>1</td>\n",
       "      <td>1</td>\n",
       "    </tr>\n",
       "    <tr>\n",
       "      <th>2</th>\n",
       "      <td>29774.188502</td>\n",
       "      <td>31479.321290</td>\n",
       "      <td>19341.542165</td>\n",
       "      <td>142500</td>\n",
       "      <td>42720.618537</td>\n",
       "      <td>31479.321290</td>\n",
       "      <td>25667.992200</td>\n",
       "      <td>0</td>\n",
       "      <td>1</td>\n",
       "      <td>1</td>\n",
       "    </tr>\n",
       "    <tr>\n",
       "      <th>3</th>\n",
       "      <td>35886.459487</td>\n",
       "      <td>31479.321290</td>\n",
       "      <td>44862.276417</td>\n",
       "      <td>42717</td>\n",
       "      <td>30660.327909</td>\n",
       "      <td>36020.345784</td>\n",
       "      <td>25667.992200</td>\n",
       "      <td>0</td>\n",
       "      <td>1</td>\n",
       "      <td>1</td>\n",
       "    </tr>\n",
       "    <tr>\n",
       "      <th>4</th>\n",
       "      <td>35886.459487</td>\n",
       "      <td>29400.276176</td>\n",
       "      <td>28666.899263</td>\n",
       "      <td>67289</td>\n",
       "      <td>30660.327909</td>\n",
       "      <td>31131.079260</td>\n",
       "      <td>36467.798731</td>\n",
       "      <td>0</td>\n",
       "      <td>1</td>\n",
       "      <td>1</td>\n",
       "    </tr>\n",
       "    <tr>\n",
       "      <th>...</th>\n",
       "      <td>...</td>\n",
       "      <td>...</td>\n",
       "      <td>...</td>\n",
       "      <td>...</td>\n",
       "      <td>...</td>\n",
       "      <td>...</td>\n",
       "      <td>...</td>\n",
       "      <td>...</td>\n",
       "      <td>...</td>\n",
       "      <td>...</td>\n",
       "    </tr>\n",
       "    <tr>\n",
       "      <th>577</th>\n",
       "      <td>36650.082643</td>\n",
       "      <td>33368.584644</td>\n",
       "      <td>17483.987477</td>\n",
       "      <td>118000</td>\n",
       "      <td>30660.327909</td>\n",
       "      <td>31479.321290</td>\n",
       "      <td>37024.321555</td>\n",
       "      <td>1</td>\n",
       "      <td>0</td>\n",
       "      <td>1</td>\n",
       "    </tr>\n",
       "    <tr>\n",
       "      <th>578</th>\n",
       "      <td>29465.200305</td>\n",
       "      <td>31479.321290</td>\n",
       "      <td>27406.039319</td>\n",
       "      <td>47800</td>\n",
       "      <td>30660.327909</td>\n",
       "      <td>31479.321290</td>\n",
       "      <td>25667.992200</td>\n",
       "      <td>1</td>\n",
       "      <td>0</td>\n",
       "      <td>1</td>\n",
       "    </tr>\n",
       "    <tr>\n",
       "      <th>579</th>\n",
       "      <td>27136.676467</td>\n",
       "      <td>30961.577868</td>\n",
       "      <td>32864.905790</td>\n",
       "      <td>71964</td>\n",
       "      <td>30660.327909</td>\n",
       "      <td>22728.506204</td>\n",
       "      <td>24634.710526</td>\n",
       "      <td>0</td>\n",
       "      <td>1</td>\n",
       "      <td>1</td>\n",
       "    </tr>\n",
       "    <tr>\n",
       "      <th>580</th>\n",
       "      <td>23171.548046</td>\n",
       "      <td>31479.321290</td>\n",
       "      <td>23199.482107</td>\n",
       "      <td>33300</td>\n",
       "      <td>30660.327909</td>\n",
       "      <td>27865.217820</td>\n",
       "      <td>25667.992200</td>\n",
       "      <td>0</td>\n",
       "      <td>1</td>\n",
       "      <td>1</td>\n",
       "    </tr>\n",
       "    <tr>\n",
       "      <th>581</th>\n",
       "      <td>31358.834039</td>\n",
       "      <td>29676.862018</td>\n",
       "      <td>28666.899263</td>\n",
       "      <td>119850</td>\n",
       "      <td>30660.327909</td>\n",
       "      <td>25019.705671</td>\n",
       "      <td>25667.992200</td>\n",
       "      <td>0</td>\n",
       "      <td>1</td>\n",
       "      <td>1</td>\n",
       "    </tr>\n",
       "  </tbody>\n",
       "</table>\n",
       "<p>582 rows × 10 columns</p>\n",
       "</div>"
      ],
      "text/plain": [
       "            brand         model    model_year  milage     fuel_type  \\\n",
       "0    29164.171516  31807.282952  23199.482107   87066  30660.327909   \n",
       "1    29774.188502  30375.816281  28666.899263  101900  30660.327909   \n",
       "2    29774.188502  31479.321290  19341.542165  142500  42720.618537   \n",
       "3    35886.459487  31479.321290  44862.276417   42717  30660.327909   \n",
       "4    35886.459487  29400.276176  28666.899263   67289  30660.327909   \n",
       "..            ...           ...           ...     ...           ...   \n",
       "577  36650.082643  33368.584644  17483.987477  118000  30660.327909   \n",
       "578  29465.200305  31479.321290  27406.039319   47800  30660.327909   \n",
       "579  27136.676467  30961.577868  32864.905790   71964  30660.327909   \n",
       "580  23171.548046  31479.321290  23199.482107   33300  30660.327909   \n",
       "581  31358.834039  29676.862018  28666.899263  119850  30660.327909   \n",
       "\n",
       "           engine  transmission  \\\n",
       "0    29986.834662  40642.564102   \n",
       "1    31775.795606  17502.032619   \n",
       "2    31479.321290  25667.992200   \n",
       "3    36020.345784  25667.992200   \n",
       "4    31131.079260  36467.798731   \n",
       "..            ...           ...   \n",
       "577  31479.321290  37024.321555   \n",
       "578  31479.321290  25667.992200   \n",
       "579  22728.506204  24634.710526   \n",
       "580  27865.217820  25667.992200   \n",
       "581  25019.705671  25667.992200   \n",
       "\n",
       "     accident_At least 1 accident or damage reported  accident_None reported  \\\n",
       "0                                                  0                       1   \n",
       "1                                                  0                       1   \n",
       "2                                                  0                       1   \n",
       "3                                                  0                       1   \n",
       "4                                                  0                       1   \n",
       "..                                               ...                     ...   \n",
       "577                                                1                       0   \n",
       "578                                                1                       0   \n",
       "579                                                0                       1   \n",
       "580                                                0                       1   \n",
       "581                                                0                       1   \n",
       "\n",
       "     clean_title_Yes  \n",
       "0                  1  \n",
       "1                  1  \n",
       "2                  1  \n",
       "3                  1  \n",
       "4                  1  \n",
       "..               ...  \n",
       "577                1  \n",
       "578                1  \n",
       "579                1  \n",
       "580                1  \n",
       "581                1  \n",
       "\n",
       "[582 rows x 10 columns]"
      ]
     },
     "execution_count": 66,
     "metadata": {},
     "output_type": "execute_result"
    }
   ],
   "source": [
    "x_train.reset_index(drop=True)\n",
    "x_test.reset_index(drop=True)"
   ]
  },
  {
   "cell_type": "code",
   "execution_count": 67,
   "id": "713bdb7b",
   "metadata": {},
   "outputs": [
    {
     "data": {
      "text/html": [
       "<div>\n",
       "<style scoped>\n",
       "    .dataframe tbody tr th:only-of-type {\n",
       "        vertical-align: middle;\n",
       "    }\n",
       "\n",
       "    .dataframe tbody tr th {\n",
       "        vertical-align: top;\n",
       "    }\n",
       "\n",
       "    .dataframe thead th {\n",
       "        text-align: right;\n",
       "    }\n",
       "</style>\n",
       "<table border=\"1\" class=\"dataframe\">\n",
       "  <thead>\n",
       "    <tr style=\"text-align: right;\">\n",
       "      <th></th>\n",
       "      <th>brand</th>\n",
       "      <th>model</th>\n",
       "      <th>model_year</th>\n",
       "      <th>milage</th>\n",
       "      <th>fuel_type</th>\n",
       "      <th>engine</th>\n",
       "      <th>transmission</th>\n",
       "      <th>accident_At least 1 accident or damage reported</th>\n",
       "      <th>accident_None reported</th>\n",
       "      <th>clean_title_Yes</th>\n",
       "    </tr>\n",
       "  </thead>\n",
       "  <tbody>\n",
       "    <tr>\n",
       "      <th>3620</th>\n",
       "      <td>46929.065791</td>\n",
       "      <td>39458.665129</td>\n",
       "      <td>16570.787620</td>\n",
       "      <td>50500</td>\n",
       "      <td>30660.327909</td>\n",
       "      <td>35963.282054</td>\n",
       "      <td>28965.115616</td>\n",
       "      <td>0</td>\n",
       "      <td>1</td>\n",
       "      <td>1</td>\n",
       "    </tr>\n",
       "    <tr>\n",
       "      <th>1815</th>\n",
       "      <td>24804.625392</td>\n",
       "      <td>31547.066003</td>\n",
       "      <td>44862.276417</td>\n",
       "      <td>32500</td>\n",
       "      <td>30660.327909</td>\n",
       "      <td>30453.834367</td>\n",
       "      <td>25667.992200</td>\n",
       "      <td>0</td>\n",
       "      <td>1</td>\n",
       "      <td>1</td>\n",
       "    </tr>\n",
       "    <tr>\n",
       "      <th>2215</th>\n",
       "      <td>33521.916996</td>\n",
       "      <td>30837.003820</td>\n",
       "      <td>16700.320184</td>\n",
       "      <td>74500</td>\n",
       "      <td>30660.327909</td>\n",
       "      <td>30114.902186</td>\n",
       "      <td>28965.115616</td>\n",
       "      <td>0</td>\n",
       "      <td>1</td>\n",
       "      <td>1</td>\n",
       "    </tr>\n",
       "    <tr>\n",
       "      <th>755</th>\n",
       "      <td>35886.459487</td>\n",
       "      <td>31928.175408</td>\n",
       "      <td>23396.060661</td>\n",
       "      <td>127500</td>\n",
       "      <td>30660.327909</td>\n",
       "      <td>31306.372242</td>\n",
       "      <td>37024.321555</td>\n",
       "      <td>0</td>\n",
       "      <td>1</td>\n",
       "      <td>1</td>\n",
       "    </tr>\n",
       "    <tr>\n",
       "      <th>477</th>\n",
       "      <td>31358.834039</td>\n",
       "      <td>39177.510328</td>\n",
       "      <td>40418.691753</td>\n",
       "      <td>61000</td>\n",
       "      <td>30660.327909</td>\n",
       "      <td>39177.510328</td>\n",
       "      <td>37024.321555</td>\n",
       "      <td>0</td>\n",
       "      <td>1</td>\n",
       "      <td>1</td>\n",
       "    </tr>\n",
       "  </tbody>\n",
       "</table>\n",
       "</div>"
      ],
      "text/plain": [
       "             brand         model    model_year  milage     fuel_type  \\\n",
       "3620  46929.065791  39458.665129  16570.787620   50500  30660.327909   \n",
       "1815  24804.625392  31547.066003  44862.276417   32500  30660.327909   \n",
       "2215  33521.916996  30837.003820  16700.320184   74500  30660.327909   \n",
       "755   35886.459487  31928.175408  23396.060661  127500  30660.327909   \n",
       "477   31358.834039  39177.510328  40418.691753   61000  30660.327909   \n",
       "\n",
       "            engine  transmission  \\\n",
       "3620  35963.282054  28965.115616   \n",
       "1815  30453.834367  25667.992200   \n",
       "2215  30114.902186  28965.115616   \n",
       "755   31306.372242  37024.321555   \n",
       "477   39177.510328  37024.321555   \n",
       "\n",
       "      accident_At least 1 accident or damage reported  accident_None reported  \\\n",
       "3620                                                0                       1   \n",
       "1815                                                0                       1   \n",
       "2215                                                0                       1   \n",
       "755                                                 0                       1   \n",
       "477                                                 0                       1   \n",
       "\n",
       "      clean_title_Yes  \n",
       "3620                1  \n",
       "1815                1  \n",
       "2215                1  \n",
       "755                 1  \n",
       "477                 1  "
      ]
     },
     "execution_count": 67,
     "metadata": {},
     "output_type": "execute_result"
    }
   ],
   "source": [
    "x_train.head()"
   ]
  },
  {
   "cell_type": "code",
   "execution_count": 68,
   "id": "7235517e",
   "metadata": {},
   "outputs": [
    {
     "data": {
      "text/html": [
       "<div>\n",
       "<style scoped>\n",
       "    .dataframe tbody tr th:only-of-type {\n",
       "        vertical-align: middle;\n",
       "    }\n",
       "\n",
       "    .dataframe tbody tr th {\n",
       "        vertical-align: top;\n",
       "    }\n",
       "\n",
       "    .dataframe thead th {\n",
       "        text-align: right;\n",
       "    }\n",
       "</style>\n",
       "<table border=\"1\" class=\"dataframe\">\n",
       "  <thead>\n",
       "    <tr style=\"text-align: right;\">\n",
       "      <th></th>\n",
       "      <th>brand</th>\n",
       "      <th>model</th>\n",
       "      <th>model_year</th>\n",
       "      <th>milage</th>\n",
       "      <th>fuel_type</th>\n",
       "      <th>engine</th>\n",
       "      <th>transmission</th>\n",
       "      <th>accident_At least 1 accident or damage reported</th>\n",
       "      <th>accident_None reported</th>\n",
       "      <th>clean_title_Yes</th>\n",
       "    </tr>\n",
       "  </thead>\n",
       "  <tbody>\n",
       "    <tr>\n",
       "      <th>1918</th>\n",
       "      <td>29164.171516</td>\n",
       "      <td>31807.282952</td>\n",
       "      <td>23199.482107</td>\n",
       "      <td>87066</td>\n",
       "      <td>30660.327909</td>\n",
       "      <td>29986.834662</td>\n",
       "      <td>40642.564102</td>\n",
       "      <td>0</td>\n",
       "      <td>1</td>\n",
       "      <td>1</td>\n",
       "    </tr>\n",
       "    <tr>\n",
       "      <th>2340</th>\n",
       "      <td>29774.188502</td>\n",
       "      <td>30375.816281</td>\n",
       "      <td>28666.899263</td>\n",
       "      <td>101900</td>\n",
       "      <td>30660.327909</td>\n",
       "      <td>31775.795606</td>\n",
       "      <td>17502.032619</td>\n",
       "      <td>0</td>\n",
       "      <td>1</td>\n",
       "      <td>1</td>\n",
       "    </tr>\n",
       "    <tr>\n",
       "      <th>1580</th>\n",
       "      <td>29774.188502</td>\n",
       "      <td>31479.321290</td>\n",
       "      <td>19341.542165</td>\n",
       "      <td>142500</td>\n",
       "      <td>42720.618537</td>\n",
       "      <td>31479.321290</td>\n",
       "      <td>25667.992200</td>\n",
       "      <td>0</td>\n",
       "      <td>1</td>\n",
       "      <td>1</td>\n",
       "    </tr>\n",
       "    <tr>\n",
       "      <th>3313</th>\n",
       "      <td>35886.459487</td>\n",
       "      <td>31479.321290</td>\n",
       "      <td>44862.276417</td>\n",
       "      <td>42717</td>\n",
       "      <td>30660.327909</td>\n",
       "      <td>36020.345784</td>\n",
       "      <td>25667.992200</td>\n",
       "      <td>0</td>\n",
       "      <td>1</td>\n",
       "      <td>1</td>\n",
       "    </tr>\n",
       "    <tr>\n",
       "      <th>3228</th>\n",
       "      <td>35886.459487</td>\n",
       "      <td>29400.276176</td>\n",
       "      <td>28666.899263</td>\n",
       "      <td>67289</td>\n",
       "      <td>30660.327909</td>\n",
       "      <td>31131.079260</td>\n",
       "      <td>36467.798731</td>\n",
       "      <td>0</td>\n",
       "      <td>1</td>\n",
       "      <td>1</td>\n",
       "    </tr>\n",
       "  </tbody>\n",
       "</table>\n",
       "</div>"
      ],
      "text/plain": [
       "             brand         model    model_year  milage     fuel_type  \\\n",
       "1918  29164.171516  31807.282952  23199.482107   87066  30660.327909   \n",
       "2340  29774.188502  30375.816281  28666.899263  101900  30660.327909   \n",
       "1580  29774.188502  31479.321290  19341.542165  142500  42720.618537   \n",
       "3313  35886.459487  31479.321290  44862.276417   42717  30660.327909   \n",
       "3228  35886.459487  29400.276176  28666.899263   67289  30660.327909   \n",
       "\n",
       "            engine  transmission  \\\n",
       "1918  29986.834662  40642.564102   \n",
       "2340  31775.795606  17502.032619   \n",
       "1580  31479.321290  25667.992200   \n",
       "3313  36020.345784  25667.992200   \n",
       "3228  31131.079260  36467.798731   \n",
       "\n",
       "      accident_At least 1 accident or damage reported  accident_None reported  \\\n",
       "1918                                                0                       1   \n",
       "2340                                                0                       1   \n",
       "1580                                                0                       1   \n",
       "3313                                                0                       1   \n",
       "3228                                                0                       1   \n",
       "\n",
       "      clean_title_Yes  \n",
       "1918                1  \n",
       "2340                1  \n",
       "1580                1  \n",
       "3313                1  \n",
       "3228                1  "
      ]
     },
     "execution_count": 68,
     "metadata": {},
     "output_type": "execute_result"
    }
   ],
   "source": [
    "x_test.head()"
   ]
  },
  {
   "cell_type": "markdown",
   "id": "3d33ea5e",
   "metadata": {},
   "source": [
    "### Scaling Feature Using MinMaxScaler"
   ]
  },
  {
   "cell_type": "code",
   "execution_count": 70,
   "id": "d080c7f0",
   "metadata": {},
   "outputs": [],
   "source": [
    "from sklearn.preprocessing import MinMaxScaler\n",
    "scaler=MinMaxScaler()\n",
    "scaler.fit(x_train)\n",
    "x_train=pd.DataFrame(scaler.transform(x_train) , columns=x_train.columns)\n",
    "x_test=pd.DataFrame(scaler.transform(x_test) , columns=x_test.columns)"
   ]
  },
  {
   "cell_type": "code",
   "execution_count": 71,
   "id": "9e803b95",
   "metadata": {},
   "outputs": [
    {
     "data": {
      "text/html": [
       "<div>\n",
       "<style scoped>\n",
       "    .dataframe tbody tr th:only-of-type {\n",
       "        vertical-align: middle;\n",
       "    }\n",
       "\n",
       "    .dataframe tbody tr th {\n",
       "        vertical-align: top;\n",
       "    }\n",
       "\n",
       "    .dataframe thead th {\n",
       "        text-align: right;\n",
       "    }\n",
       "</style>\n",
       "<table border=\"1\" class=\"dataframe\">\n",
       "  <thead>\n",
       "    <tr style=\"text-align: right;\">\n",
       "      <th></th>\n",
       "      <th>brand</th>\n",
       "      <th>model</th>\n",
       "      <th>model_year</th>\n",
       "      <th>milage</th>\n",
       "      <th>fuel_type</th>\n",
       "      <th>engine</th>\n",
       "      <th>transmission</th>\n",
       "      <th>accident_At least 1 accident or damage reported</th>\n",
       "      <th>accident_None reported</th>\n",
       "      <th>clean_title_Yes</th>\n",
       "    </tr>\n",
       "  </thead>\n",
       "  <tbody>\n",
       "    <tr>\n",
       "      <th>0</th>\n",
       "      <td>1.000000</td>\n",
       "      <td>0.770061</td>\n",
       "      <td>0.025009</td>\n",
       "      <td>0.240688</td>\n",
       "      <td>0.35685</td>\n",
       "      <td>0.432895</td>\n",
       "      <td>0.307836</td>\n",
       "      <td>0.0</td>\n",
       "      <td>1.0</td>\n",
       "      <td>0.0</td>\n",
       "    </tr>\n",
       "    <tr>\n",
       "      <th>1</th>\n",
       "      <td>0.234612</td>\n",
       "      <td>0.321260</td>\n",
       "      <td>0.624885</td>\n",
       "      <td>0.154728</td>\n",
       "      <td>0.35685</td>\n",
       "      <td>0.253713</td>\n",
       "      <td>0.229416</td>\n",
       "      <td>0.0</td>\n",
       "      <td>1.0</td>\n",
       "      <td>0.0</td>\n",
       "    </tr>\n",
       "    <tr>\n",
       "      <th>2</th>\n",
       "      <td>0.536184</td>\n",
       "      <td>0.280980</td>\n",
       "      <td>0.027755</td>\n",
       "      <td>0.355301</td>\n",
       "      <td>0.35685</td>\n",
       "      <td>0.242690</td>\n",
       "      <td>0.307836</td>\n",
       "      <td>0.0</td>\n",
       "      <td>1.0</td>\n",
       "      <td>0.0</td>\n",
       "    </tr>\n",
       "    <tr>\n",
       "      <th>3</th>\n",
       "      <td>0.617985</td>\n",
       "      <td>0.342879</td>\n",
       "      <td>0.169728</td>\n",
       "      <td>0.608405</td>\n",
       "      <td>0.35685</td>\n",
       "      <td>0.281440</td>\n",
       "      <td>0.499519</td>\n",
       "      <td>0.0</td>\n",
       "      <td>1.0</td>\n",
       "      <td>0.0</td>\n",
       "    </tr>\n",
       "    <tr>\n",
       "      <th>4</th>\n",
       "      <td>0.461353</td>\n",
       "      <td>0.754111</td>\n",
       "      <td>0.530666</td>\n",
       "      <td>0.290831</td>\n",
       "      <td>0.35685</td>\n",
       "      <td>0.537430</td>\n",
       "      <td>0.499519</td>\n",
       "      <td>0.0</td>\n",
       "      <td>1.0</td>\n",
       "      <td>0.0</td>\n",
       "    </tr>\n",
       "  </tbody>\n",
       "</table>\n",
       "</div>"
      ],
      "text/plain": [
       "      brand     model  model_year    milage  fuel_type    engine  \\\n",
       "0  1.000000  0.770061    0.025009  0.240688    0.35685  0.432895   \n",
       "1  0.234612  0.321260    0.624885  0.154728    0.35685  0.253713   \n",
       "2  0.536184  0.280980    0.027755  0.355301    0.35685  0.242690   \n",
       "3  0.617985  0.342879    0.169728  0.608405    0.35685  0.281440   \n",
       "4  0.461353  0.754111    0.530666  0.290831    0.35685  0.537430   \n",
       "\n",
       "   transmission  accident_At least 1 accident or damage reported  \\\n",
       "0      0.307836                                              0.0   \n",
       "1      0.229416                                              0.0   \n",
       "2      0.307836                                              0.0   \n",
       "3      0.499519                                              0.0   \n",
       "4      0.499519                                              0.0   \n",
       "\n",
       "   accident_None reported  clean_title_Yes  \n",
       "0                     1.0              0.0  \n",
       "1                     1.0              0.0  \n",
       "2                     1.0              0.0  \n",
       "3                     1.0              0.0  \n",
       "4                     1.0              0.0  "
      ]
     },
     "execution_count": 71,
     "metadata": {},
     "output_type": "execute_result"
    }
   ],
   "source": [
    "x_train.head()"
   ]
  },
  {
   "cell_type": "code",
   "execution_count": 72,
   "id": "8ca3c4a4",
   "metadata": {},
   "outputs": [
    {
     "data": {
      "text/html": [
       "<div>\n",
       "<style scoped>\n",
       "    .dataframe tbody tr th:only-of-type {\n",
       "        vertical-align: middle;\n",
       "    }\n",
       "\n",
       "    .dataframe tbody tr th {\n",
       "        vertical-align: top;\n",
       "    }\n",
       "\n",
       "    .dataframe thead th {\n",
       "        text-align: right;\n",
       "    }\n",
       "</style>\n",
       "<table border=\"1\" class=\"dataframe\">\n",
       "  <thead>\n",
       "    <tr style=\"text-align: right;\">\n",
       "      <th></th>\n",
       "      <th>brand</th>\n",
       "      <th>model</th>\n",
       "      <th>model_year</th>\n",
       "      <th>milage</th>\n",
       "      <th>fuel_type</th>\n",
       "      <th>engine</th>\n",
       "      <th>transmission</th>\n",
       "      <th>accident_At least 1 accident or damage reported</th>\n",
       "      <th>accident_None reported</th>\n",
       "      <th>clean_title_Yes</th>\n",
       "    </tr>\n",
       "  </thead>\n",
       "  <tbody>\n",
       "    <tr>\n",
       "      <th>0</th>\n",
       "      <td>0.385429</td>\n",
       "      <td>0.336021</td>\n",
       "      <td>0.165560</td>\n",
       "      <td>0.415310</td>\n",
       "      <td>0.356850</td>\n",
       "      <td>0.238525</td>\n",
       "      <td>0.585576</td>\n",
       "      <td>0.0</td>\n",
       "      <td>1.0</td>\n",
       "      <td>0.0</td>\n",
       "    </tr>\n",
       "    <tr>\n",
       "      <th>1</th>\n",
       "      <td>0.406533</td>\n",
       "      <td>0.254818</td>\n",
       "      <td>0.281488</td>\n",
       "      <td>0.486151</td>\n",
       "      <td>0.356850</td>\n",
       "      <td>0.296707</td>\n",
       "      <td>0.035194</td>\n",
       "      <td>0.0</td>\n",
       "      <td>1.0</td>\n",
       "      <td>0.0</td>\n",
       "    </tr>\n",
       "    <tr>\n",
       "      <th>2</th>\n",
       "      <td>0.406533</td>\n",
       "      <td>0.317417</td>\n",
       "      <td>0.083758</td>\n",
       "      <td>0.680038</td>\n",
       "      <td>0.896301</td>\n",
       "      <td>0.287065</td>\n",
       "      <td>0.229416</td>\n",
       "      <td>0.0</td>\n",
       "      <td>1.0</td>\n",
       "      <td>0.0</td>\n",
       "    </tr>\n",
       "    <tr>\n",
       "      <th>3</th>\n",
       "      <td>0.617985</td>\n",
       "      <td>0.317417</td>\n",
       "      <td>0.624885</td>\n",
       "      <td>0.203520</td>\n",
       "      <td>0.356850</td>\n",
       "      <td>0.434751</td>\n",
       "      <td>0.229416</td>\n",
       "      <td>0.0</td>\n",
       "      <td>1.0</td>\n",
       "      <td>0.0</td>\n",
       "    </tr>\n",
       "    <tr>\n",
       "      <th>4</th>\n",
       "      <td>0.617985</td>\n",
       "      <td>0.199479</td>\n",
       "      <td>0.281488</td>\n",
       "      <td>0.320864</td>\n",
       "      <td>0.356850</td>\n",
       "      <td>0.275739</td>\n",
       "      <td>0.486282</td>\n",
       "      <td>0.0</td>\n",
       "      <td>1.0</td>\n",
       "      <td>0.0</td>\n",
       "    </tr>\n",
       "  </tbody>\n",
       "</table>\n",
       "</div>"
      ],
      "text/plain": [
       "      brand     model  model_year    milage  fuel_type    engine  \\\n",
       "0  0.385429  0.336021    0.165560  0.415310   0.356850  0.238525   \n",
       "1  0.406533  0.254818    0.281488  0.486151   0.356850  0.296707   \n",
       "2  0.406533  0.317417    0.083758  0.680038   0.896301  0.287065   \n",
       "3  0.617985  0.317417    0.624885  0.203520   0.356850  0.434751   \n",
       "4  0.617985  0.199479    0.281488  0.320864   0.356850  0.275739   \n",
       "\n",
       "   transmission  accident_At least 1 accident or damage reported  \\\n",
       "0      0.585576                                              0.0   \n",
       "1      0.035194                                              0.0   \n",
       "2      0.229416                                              0.0   \n",
       "3      0.229416                                              0.0   \n",
       "4      0.486282                                              0.0   \n",
       "\n",
       "   accident_None reported  clean_title_Yes  \n",
       "0                     1.0              0.0  \n",
       "1                     1.0              0.0  \n",
       "2                     1.0              0.0  \n",
       "3                     1.0              0.0  \n",
       "4                     1.0              0.0  "
      ]
     },
     "execution_count": 72,
     "metadata": {},
     "output_type": "execute_result"
    }
   ],
   "source": [
    "x_test.head()"
   ]
  },
  {
   "cell_type": "markdown",
   "id": "12865477",
   "metadata": {},
   "source": [
    "### Import the model  "
   ]
  },
  {
   "cell_type": "code",
   "execution_count": 73,
   "id": "9d8f1356",
   "metadata": {},
   "outputs": [],
   "source": [
    "from sklearn.linear_model import LinearRegression\n",
    "from sklearn.tree import DecisionTreeRegressor\n",
    "from sklearn.ensemble import RandomForestRegressor\n",
    "from sklearn.neighbors import KNeighborsRegressor\n",
    "from sklearn.svm import SVR\n",
    "\n",
    "lr=LinearRegression()\n",
    "dtr=DecisionTreeRegressor(random_state=70)\n",
    "rfr=RandomForestRegressor(random_state=70)\n",
    "knr=KNeighborsRegressor()\n",
    "svr=SVR()"
   ]
  },
  {
   "cell_type": "markdown",
   "id": "2a548bab",
   "metadata": {},
   "source": [
    "### Fitting Linear Regression Model"
   ]
  },
  {
   "cell_type": "code",
   "execution_count": 74,
   "id": "422d7809",
   "metadata": {},
   "outputs": [],
   "source": [
    "lr.fit(x_train,y_train)\n",
    "lr_y_pred=lr.predict(x_test)"
   ]
  },
  {
   "cell_type": "code",
   "execution_count": 75,
   "id": "6eca6541",
   "metadata": {},
   "outputs": [
    {
     "data": {
      "text/plain": [
       "0.8834774818785605"
      ]
     },
     "execution_count": 75,
     "metadata": {},
     "output_type": "execute_result"
    }
   ],
   "source": [
    "lr_train_score=lr.score(x_train,y_train)\n",
    "lr_train_score"
   ]
  },
  {
   "cell_type": "code",
   "execution_count": 76,
   "id": "6bca3a3d",
   "metadata": {},
   "outputs": [
    {
     "data": {
      "text/plain": [
       "0.6676460214909398"
      ]
     },
     "execution_count": 76,
     "metadata": {},
     "output_type": "execute_result"
    }
   ],
   "source": [
    "lr_test_score=lr.score(x_test,y_test)\n",
    "lr_test_score"
   ]
  },
  {
   "cell_type": "code",
   "execution_count": 77,
   "id": "5bd6deee",
   "metadata": {},
   "outputs": [
    {
     "data": {
      "text/plain": [
       "791.6964212445164"
      ]
     },
     "execution_count": 77,
     "metadata": {},
     "output_type": "execute_result"
    }
   ],
   "source": [
    "c=lr.intercept_\n",
    "c"
   ]
  },
  {
   "cell_type": "code",
   "execution_count": 78,
   "id": "be8956e3",
   "metadata": {},
   "outputs": [
    {
     "data": {
      "text/plain": [
       "array([  4975.75971128,  73356.70044996,   7688.30797992, -16002.65196571,\n",
       "         3404.4830308 ,  16759.53312095,   2802.52010498,   -168.78441921,\n",
       "          168.78441921,      0.        ])"
      ]
     },
     "execution_count": 78,
     "metadata": {},
     "output_type": "execute_result"
    }
   ],
   "source": [
    "m=lr.coef_\n",
    "m"
   ]
  },
  {
   "cell_type": "code",
   "execution_count": 79,
   "id": "d3c2e453",
   "metadata": {},
   "outputs": [],
   "source": [
    "from sklearn.metrics import mean_absolute_error , mean_squared_error , r2_score"
   ]
  },
  {
   "cell_type": "code",
   "execution_count": 80,
   "id": "f25ca7bd",
   "metadata": {},
   "outputs": [
    {
     "data": {
      "text/plain": [
       "138767191.22272825"
      ]
     },
     "execution_count": 80,
     "metadata": {},
     "output_type": "execute_result"
    }
   ],
   "source": [
    "mse_lr=mean_squared_error(y_test,lr_y_pred)\n",
    "mse_lr"
   ]
  },
  {
   "cell_type": "code",
   "execution_count": 81,
   "id": "d6fcecaf",
   "metadata": {},
   "outputs": [
    {
     "data": {
      "text/plain": [
       "8664.696101284388"
      ]
     },
     "execution_count": 81,
     "metadata": {},
     "output_type": "execute_result"
    }
   ],
   "source": [
    "mae_lr=mean_absolute_error(y_test , lr_y_pred)\n",
    "mae_lr"
   ]
  },
  {
   "cell_type": "code",
   "execution_count": 82,
   "id": "97f70806",
   "metadata": {},
   "outputs": [
    {
     "data": {
      "text/plain": [
       "0.6676460214909398"
      ]
     },
     "execution_count": 82,
     "metadata": {},
     "output_type": "execute_result"
    }
   ],
   "source": [
    "r2_score_lr=r2_score(y_test , lr_y_pred)\n",
    "r2_score_lr"
   ]
  },
  {
   "cell_type": "code",
   "execution_count": 83,
   "id": "b5c7fd81",
   "metadata": {},
   "outputs": [
    {
     "data": {
      "text/plain": [
       "11779.948693552458"
      ]
     },
     "execution_count": 83,
     "metadata": {},
     "output_type": "execute_result"
    }
   ],
   "source": [
    "import math\n",
    "rmse_lr=math.sqrt(mse_lr)\n",
    "rmse_lr"
   ]
  },
  {
   "cell_type": "markdown",
   "id": "9483807c",
   "metadata": {},
   "source": [
    "### Fitting The Decision Tree Regressor"
   ]
  },
  {
   "cell_type": "code",
   "execution_count": 84,
   "id": "d24eab36",
   "metadata": {},
   "outputs": [],
   "source": [
    "dtr.fit(x_train,y_train)\n",
    "dtr_y_pred=dtr.predict(x_test)"
   ]
  },
  {
   "cell_type": "code",
   "execution_count": 85,
   "id": "02857bde",
   "metadata": {},
   "outputs": [
    {
     "data": {
      "text/plain": [
       "1.0"
      ]
     },
     "execution_count": 85,
     "metadata": {},
     "output_type": "execute_result"
    }
   ],
   "source": [
    "dtr_train_score=dtr.score(x_train,y_train)\n",
    "dtr_train_score"
   ]
  },
  {
   "cell_type": "code",
   "execution_count": 86,
   "id": "07599546",
   "metadata": {},
   "outputs": [
    {
     "data": {
      "text/plain": [
       "0.6339271830160864"
      ]
     },
     "execution_count": 86,
     "metadata": {},
     "output_type": "execute_result"
    }
   ],
   "source": [
    "dtr_test_score=dtr.score(x_test,y_test)\n",
    "dtr_test_score"
   ]
  },
  {
   "cell_type": "code",
   "execution_count": 87,
   "id": "7d7c665f",
   "metadata": {},
   "outputs": [
    {
     "data": {
      "text/plain": [
       "152845760.4862543"
      ]
     },
     "execution_count": 87,
     "metadata": {},
     "output_type": "execute_result"
    }
   ],
   "source": [
    "mse_dtr=mean_squared_error(y_test , dtr_y_pred)\n",
    "mse_dtr"
   ]
  },
  {
   "cell_type": "code",
   "execution_count": 88,
   "id": "8ccb464a",
   "metadata": {},
   "outputs": [
    {
     "data": {
      "text/plain": [
       "8730.427835051547"
      ]
     },
     "execution_count": 88,
     "metadata": {},
     "output_type": "execute_result"
    }
   ],
   "source": [
    "mae_dtr=mean_absolute_error(y_test , dtr_y_pred)\n",
    "mae_dtr"
   ]
  },
  {
   "cell_type": "code",
   "execution_count": 89,
   "id": "0bf791c5",
   "metadata": {},
   "outputs": [
    {
     "data": {
      "text/plain": [
       "0.6339271830160864"
      ]
     },
     "execution_count": 89,
     "metadata": {},
     "output_type": "execute_result"
    }
   ],
   "source": [
    "r2_score_dtr=r2_score(y_test , dtr_y_pred)\n",
    "r2_score_dtr"
   ]
  },
  {
   "cell_type": "code",
   "execution_count": 90,
   "id": "c60a485f",
   "metadata": {},
   "outputs": [
    {
     "data": {
      "text/plain": [
       "12363.080541930247"
      ]
     },
     "execution_count": 90,
     "metadata": {},
     "output_type": "execute_result"
    }
   ],
   "source": [
    "rmse_dtr=math.sqrt(mse_dtr)\n",
    "rmse_dtr"
   ]
  },
  {
   "cell_type": "markdown",
   "id": "e8e0fdf8",
   "metadata": {},
   "source": [
    "### Fitting Random Forst Regressor"
   ]
  },
  {
   "cell_type": "code",
   "execution_count": 91,
   "id": "17744aee",
   "metadata": {},
   "outputs": [],
   "source": [
    "rfr.fit(x_train,y_train)\n",
    "rfr_y_pred=rfr.predict(x_test)"
   ]
  },
  {
   "cell_type": "code",
   "execution_count": 92,
   "id": "5ffc3af9",
   "metadata": {},
   "outputs": [
    {
     "data": {
      "text/plain": [
       "0.9892740851943789"
      ]
     },
     "execution_count": 92,
     "metadata": {},
     "output_type": "execute_result"
    }
   ],
   "source": [
    "rfr_train_score=rfr.score(x_train,y_train)\n",
    "rfr_train_score"
   ]
  },
  {
   "cell_type": "code",
   "execution_count": 93,
   "id": "a59e1b5f",
   "metadata": {},
   "outputs": [
    {
     "data": {
      "text/plain": [
       "0.6894973682392811"
      ]
     },
     "execution_count": 93,
     "metadata": {},
     "output_type": "execute_result"
    }
   ],
   "source": [
    "rfr_test_score=rfr.score(x_test,y_test)\n",
    "rfr_test_score"
   ]
  },
  {
   "cell_type": "code",
   "execution_count": 94,
   "id": "939a767b",
   "metadata": {},
   "outputs": [
    {
     "data": {
      "text/plain": [
       "129643635.58995412"
      ]
     },
     "execution_count": 94,
     "metadata": {},
     "output_type": "execute_result"
    }
   ],
   "source": [
    "mse_rfr=mean_squared_error(y_test,rfr_y_pred)\n",
    "mse_rfr"
   ]
  },
  {
   "cell_type": "code",
   "execution_count": 95,
   "id": "7b82e8be",
   "metadata": {},
   "outputs": [
    {
     "data": {
      "text/plain": [
       "7878.157680412371"
      ]
     },
     "execution_count": 95,
     "metadata": {},
     "output_type": "execute_result"
    }
   ],
   "source": [
    "mae_rfr=mean_absolute_error(y_test,rfr_y_pred)\n",
    "mae_rfr"
   ]
  },
  {
   "cell_type": "code",
   "execution_count": 96,
   "id": "dd92c8be",
   "metadata": {},
   "outputs": [
    {
     "data": {
      "text/plain": [
       "11386.115913249527"
      ]
     },
     "execution_count": 96,
     "metadata": {},
     "output_type": "execute_result"
    }
   ],
   "source": [
    "rmse_rfr=math.sqrt(mse_rfr)\n",
    "rmse_rfr"
   ]
  },
  {
   "cell_type": "code",
   "execution_count": 97,
   "id": "0febae34",
   "metadata": {},
   "outputs": [
    {
     "data": {
      "text/plain": [
       "0.6894973682392811"
      ]
     },
     "execution_count": 97,
     "metadata": {},
     "output_type": "execute_result"
    }
   ],
   "source": [
    "r2_score_rfr=r2_score(y_test,rfr_y_pred)\n",
    "r2_score_rfr"
   ]
  },
  {
   "cell_type": "markdown",
   "id": "f41fa460",
   "metadata": {},
   "source": [
    "### Fitting KNeighbors Regressor"
   ]
  },
  {
   "cell_type": "code",
   "execution_count": 98,
   "id": "574163c9",
   "metadata": {},
   "outputs": [],
   "source": [
    "knr.fit(x_train,y_train)\n",
    "knr_y_pred=knr.predict(x_test)"
   ]
  },
  {
   "cell_type": "code",
   "execution_count": 99,
   "id": "966788e2",
   "metadata": {},
   "outputs": [
    {
     "data": {
      "text/plain": [
       "0.921095220246512"
      ]
     },
     "execution_count": 99,
     "metadata": {},
     "output_type": "execute_result"
    }
   ],
   "source": [
    "knr_train_score=knr.score(x_train,y_train)\n",
    "knr_train_score"
   ]
  },
  {
   "cell_type": "code",
   "execution_count": 100,
   "id": "9ff82f94",
   "metadata": {},
   "outputs": [
    {
     "data": {
      "text/plain": [
       "0.7273402623825926"
      ]
     },
     "execution_count": 100,
     "metadata": {},
     "output_type": "execute_result"
    }
   ],
   "source": [
    "knr_test_score=knr.score(x_test,y_test)\n",
    "knr_test_score"
   ]
  },
  {
   "cell_type": "code",
   "execution_count": 101,
   "id": "c3dc59db",
   "metadata": {},
   "outputs": [
    {
     "data": {
      "text/plain": [
       "113843156.37931272"
      ]
     },
     "execution_count": 101,
     "metadata": {},
     "output_type": "execute_result"
    }
   ],
   "source": [
    "mse_knr=mean_squared_error(y_test,knr_y_pred)\n",
    "mse_knr"
   ]
  },
  {
   "cell_type": "code",
   "execution_count": 102,
   "id": "6988824d",
   "metadata": {},
   "outputs": [
    {
     "data": {
      "text/plain": [
       "7406.902749140894"
      ]
     },
     "execution_count": 102,
     "metadata": {},
     "output_type": "execute_result"
    }
   ],
   "source": [
    "mae_knr=mean_absolute_error(y_test,knr_y_pred)\n",
    "mae_knr"
   ]
  },
  {
   "cell_type": "code",
   "execution_count": 103,
   "id": "e4a88e1c",
   "metadata": {},
   "outputs": [
    {
     "data": {
      "text/plain": [
       "0.7273402623825926"
      ]
     },
     "execution_count": 103,
     "metadata": {},
     "output_type": "execute_result"
    }
   ],
   "source": [
    "r2_score_knr=r2_score(y_test,knr_y_pred)\n",
    "r2_score_knr"
   ]
  },
  {
   "cell_type": "code",
   "execution_count": 104,
   "id": "1e3020b7",
   "metadata": {},
   "outputs": [
    {
     "data": {
      "text/plain": [
       "10669.730848494386"
      ]
     },
     "execution_count": 104,
     "metadata": {},
     "output_type": "execute_result"
    }
   ],
   "source": [
    "rmse_knr=math.sqrt(mse_knr)\n",
    "rmse_knr"
   ]
  },
  {
   "cell_type": "markdown",
   "id": "865a6547",
   "metadata": {},
   "source": [
    "### Fitting Support Vector Regressor "
   ]
  },
  {
   "cell_type": "code",
   "execution_count": 105,
   "id": "2c420716",
   "metadata": {},
   "outputs": [],
   "source": [
    "svr.fit(x_train,y_train)\n",
    "svr_y_pred=svr.predict(x_test)"
   ]
  },
  {
   "cell_type": "code",
   "execution_count": 106,
   "id": "cbe7d39e",
   "metadata": {},
   "outputs": [
    {
     "data": {
      "text/plain": [
       "-0.02137798756583975"
      ]
     },
     "execution_count": 106,
     "metadata": {},
     "output_type": "execute_result"
    }
   ],
   "source": [
    "svr_train_score=svr.score(x_train,y_train)\n",
    "svr_train_score"
   ]
  },
  {
   "cell_type": "code",
   "execution_count": 107,
   "id": "6ee4d138",
   "metadata": {},
   "outputs": [
    {
     "data": {
      "text/plain": [
       "-0.006813109002917317"
      ]
     },
     "execution_count": 107,
     "metadata": {},
     "output_type": "execute_result"
    }
   ],
   "source": [
    "svr_test_score=svr.score(x_test,y_test)\n",
    "svr_test_score"
   ]
  },
  {
   "cell_type": "code",
   "execution_count": 108,
   "id": "cca4b0ad",
   "metadata": {},
   "outputs": [
    {
     "data": {
      "text/plain": [
       "420372964.5401212"
      ]
     },
     "execution_count": 108,
     "metadata": {},
     "output_type": "execute_result"
    }
   ],
   "source": [
    "mse_svr=mean_squared_error(y_test,svr_y_pred)\n",
    "mse_svr"
   ]
  },
  {
   "cell_type": "code",
   "execution_count": 109,
   "id": "8e2fb59e",
   "metadata": {},
   "outputs": [
    {
     "data": {
      "text/plain": [
       "15813.168712303017"
      ]
     },
     "execution_count": 109,
     "metadata": {},
     "output_type": "execute_result"
    }
   ],
   "source": [
    "mae_svr=mean_absolute_error(y_test,svr_y_pred)\n",
    "mae_svr"
   ]
  },
  {
   "cell_type": "code",
   "execution_count": 110,
   "id": "323aa5f3",
   "metadata": {},
   "outputs": [
    {
     "data": {
      "text/plain": [
       "-0.006813109002917317"
      ]
     },
     "execution_count": 110,
     "metadata": {},
     "output_type": "execute_result"
    }
   ],
   "source": [
    "r2_score_svr=r2_score(y_test,svr_y_pred)\n",
    "r2_score_svr"
   ]
  },
  {
   "cell_type": "code",
   "execution_count": 111,
   "id": "372ab718",
   "metadata": {},
   "outputs": [
    {
     "data": {
      "text/plain": [
       "20502.99891577135"
      ]
     },
     "execution_count": 111,
     "metadata": {},
     "output_type": "execute_result"
    }
   ],
   "source": [
    "rmse_svr=math.sqrt(mse_svr)\n",
    "rmse_svr"
   ]
  },
  {
   "cell_type": "markdown",
   "id": "16838d24",
   "metadata": {},
   "source": [
    "### Comapring Regression Model "
   ]
  },
  {
   "cell_type": "code",
   "execution_count": 113,
   "id": "e2c448bf",
   "metadata": {},
   "outputs": [],
   "source": [
    "matric=pd.DataFrame({'Model':['Linear Regressor','Decision Tree Regressor','Random Forest Regressor','KNeighbors Regressor','Support Vactor Regressor'],\n",
    "                    'Train_Score':[lr_train_score,dtr_train_score,rfr_train_score,knr_train_score,svr_train_score],\n",
    "                    'Test_Score':[lr_test_score,dtr_test_score,rfr_test_score,knr_test_score,svr_test_score],\n",
    "                    'Mean_Squared_Error':[mse_lr,mse_dtr,mse_rfr,mse_knr,mse_svr],\n",
    "                    'Mean_Absolute_Error':[mae_lr,mae_dtr,mae_rfr,mae_knr,mae_svr],\n",
    "                    'R2_Score_Error':[r2_score_lr,r2_score_dtr,r2_score_rfr,r2_score_knr,r2_score_svr],\n",
    "                    'RMSE_Error':[rmse_lr,rmse_dtr,rmse_rfr,rmse_knr,rmse_svr]})"
   ]
  },
  {
   "cell_type": "code",
   "execution_count": 114,
   "id": "e676621d",
   "metadata": {},
   "outputs": [
    {
     "data": {
      "text/html": [
       "<div>\n",
       "<style scoped>\n",
       "    .dataframe tbody tr th:only-of-type {\n",
       "        vertical-align: middle;\n",
       "    }\n",
       "\n",
       "    .dataframe tbody tr th {\n",
       "        vertical-align: top;\n",
       "    }\n",
       "\n",
       "    .dataframe thead th {\n",
       "        text-align: right;\n",
       "    }\n",
       "</style>\n",
       "<table border=\"1\" class=\"dataframe\">\n",
       "  <thead>\n",
       "    <tr style=\"text-align: right;\">\n",
       "      <th></th>\n",
       "      <th>Model</th>\n",
       "      <th>Train_Score</th>\n",
       "      <th>Test_Score</th>\n",
       "      <th>Mean_Squared_Error</th>\n",
       "      <th>Mean_Absolute_Error</th>\n",
       "      <th>R2_Score_Error</th>\n",
       "      <th>RMSE_Error</th>\n",
       "    </tr>\n",
       "  </thead>\n",
       "  <tbody>\n",
       "    <tr>\n",
       "      <th>0</th>\n",
       "      <td>Linear Regressor</td>\n",
       "      <td>0.883477</td>\n",
       "      <td>0.667646</td>\n",
       "      <td>1.387672e+08</td>\n",
       "      <td>8664.696101</td>\n",
       "      <td>0.667646</td>\n",
       "      <td>11779.948694</td>\n",
       "    </tr>\n",
       "    <tr>\n",
       "      <th>1</th>\n",
       "      <td>Decision Tree Regressor</td>\n",
       "      <td>1.000000</td>\n",
       "      <td>0.633927</td>\n",
       "      <td>1.528458e+08</td>\n",
       "      <td>8730.427835</td>\n",
       "      <td>0.633927</td>\n",
       "      <td>12363.080542</td>\n",
       "    </tr>\n",
       "    <tr>\n",
       "      <th>2</th>\n",
       "      <td>Random Forest Regressor</td>\n",
       "      <td>0.989274</td>\n",
       "      <td>0.689497</td>\n",
       "      <td>1.296436e+08</td>\n",
       "      <td>7878.157680</td>\n",
       "      <td>0.689497</td>\n",
       "      <td>11386.115913</td>\n",
       "    </tr>\n",
       "    <tr>\n",
       "      <th>3</th>\n",
       "      <td>KNeighbors Regressor</td>\n",
       "      <td>0.921095</td>\n",
       "      <td>0.727340</td>\n",
       "      <td>1.138432e+08</td>\n",
       "      <td>7406.902749</td>\n",
       "      <td>0.727340</td>\n",
       "      <td>10669.730848</td>\n",
       "    </tr>\n",
       "    <tr>\n",
       "      <th>4</th>\n",
       "      <td>Support Vactor Regressor</td>\n",
       "      <td>-0.021378</td>\n",
       "      <td>-0.006813</td>\n",
       "      <td>4.203730e+08</td>\n",
       "      <td>15813.168712</td>\n",
       "      <td>-0.006813</td>\n",
       "      <td>20502.998916</td>\n",
       "    </tr>\n",
       "  </tbody>\n",
       "</table>\n",
       "</div>"
      ],
      "text/plain": [
       "                      Model  Train_Score  Test_Score  Mean_Squared_Error  \\\n",
       "0          Linear Regressor     0.883477    0.667646        1.387672e+08   \n",
       "1   Decision Tree Regressor     1.000000    0.633927        1.528458e+08   \n",
       "2   Random Forest Regressor     0.989274    0.689497        1.296436e+08   \n",
       "3      KNeighbors Regressor     0.921095    0.727340        1.138432e+08   \n",
       "4  Support Vactor Regressor    -0.021378   -0.006813        4.203730e+08   \n",
       "\n",
       "   Mean_Absolute_Error  R2_Score_Error    RMSE_Error  \n",
       "0          8664.696101        0.667646  11779.948694  \n",
       "1          8730.427835        0.633927  12363.080542  \n",
       "2          7878.157680        0.689497  11386.115913  \n",
       "3          7406.902749        0.727340  10669.730848  \n",
       "4         15813.168712       -0.006813  20502.998916  "
      ]
     },
     "execution_count": 114,
     "metadata": {},
     "output_type": "execute_result"
    }
   ],
   "source": [
    "matric"
   ]
  },
  {
   "cell_type": "markdown",
   "id": "df918dac",
   "metadata": {},
   "source": [
    "#### From above comparison we can see that Kneighbors Regressor and Random Forest Regressor performs better than other regression model. We can do hyperparameter tuning for increassing the accuracy for this two model."
   ]
  },
  {
   "cell_type": "code",
   "execution_count": null,
   "id": "67f27404",
   "metadata": {},
   "outputs": [],
   "source": []
  }
 ],
 "metadata": {
  "kernelspec": {
   "display_name": "Python 3 (ipykernel)",
   "language": "python",
   "name": "python3"
  },
  "language_info": {
   "codemirror_mode": {
    "name": "ipython",
    "version": 3
   },
   "file_extension": ".py",
   "mimetype": "text/x-python",
   "name": "python",
   "nbconvert_exporter": "python",
   "pygments_lexer": "ipython3",
   "version": "3.10.9"
  }
 },
 "nbformat": 4,
 "nbformat_minor": 5
}
